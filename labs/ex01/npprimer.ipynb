{
 "cells": [
  {
   "cell_type": "markdown",
   "metadata": {},
   "source": [
    "Welcome to the jupyter notebook! To run any cell, press `Shift+Enter` or `Ctrl+Enter`.\n",
    "\n",
    "**IMPORTANT** : Please have a look at `Help->User Interface Tour` and `Help->Keyboard Shortcuts` in the toolbar above that will help you get started."
   ]
  },
  {
   "cell_type": "code",
   "execution_count": 3,
   "metadata": {
    "collapsed": false,
    "tags": []
   },
   "outputs": [
    {
     "output_type": "stream",
     "name": "stdout",
     "text": "The autoreload extension is already loaded. To reload it, use:\n  %reload_ext autoreload\n"
    }
   ],
   "source": [
    "# Useful starting lines\n",
    "%matplotlib inline\n",
    "import numpy as np\n",
    "import matplotlib.pyplot as plt\n",
    "%load_ext autoreload\n",
    "%autoreload 2"
   ]
  },
  {
   "cell_type": "markdown",
   "metadata": {},
   "source": [
    "# Notebook Basics"
   ]
  },
  {
   "cell_type": "markdown",
   "metadata": {},
   "source": [
    "A cell contains any type of python inputs (expression, function definitions, etc...). Running a cell is equivalent to input this block in the python interpreter. The notebook will print the output of the last executed line."
   ]
  },
  {
   "cell_type": "code",
   "execution_count": 4,
   "metadata": {
    "collapsed": false
   },
   "outputs": [
    {
     "output_type": "execute_result",
     "data": {
      "text/plain": "1"
     },
     "metadata": {},
     "execution_count": 4
    }
   ],
   "source": [
    "1"
   ]
  },
  {
   "cell_type": "code",
   "execution_count": 5,
   "metadata": {
    "collapsed": false
   },
   "outputs": [],
   "source": [
    "x = [2,3,4]\n",
    "\n",
    "def my_function(l):\n",
    "    l.append(12)"
   ]
  },
  {
   "cell_type": "code",
   "execution_count": 6,
   "metadata": {
    "collapsed": false
   },
   "outputs": [
    {
     "output_type": "execute_result",
     "data": {
      "text/plain": "[2, 3, 4, 12]"
     },
     "metadata": {},
     "execution_count": 6
    }
   ],
   "source": [
    "my_function(x)\n",
    "\n",
    "x"
   ]
  },
  {
   "cell_type": "code",
   "execution_count": 7,
   "metadata": {
    "collapsed": false
   },
   "outputs": [
    {
     "output_type": "execute_result",
     "data": {
      "text/plain": "Text(0, 0.5, 'Y label')"
     },
     "metadata": {},
     "execution_count": 7
    },
    {
     "output_type": "display_data",
     "data": {
      "text/plain": "<Figure size 432x288 with 1 Axes>",
      "image/svg+xml": "<?xml version=\"1.0\" encoding=\"utf-8\" standalone=\"no\"?>\n<!DOCTYPE svg PUBLIC \"-//W3C//DTD SVG 1.1//EN\"\n  \"http://www.w3.org/Graphics/SVG/1.1/DTD/svg11.dtd\">\n<!-- Created with matplotlib (https://matplotlib.org/) -->\n<svg height=\"264.832977pt\" version=\"1.1\" viewBox=\"0 0 388.965625 264.832977\" width=\"388.965625pt\" xmlns=\"http://www.w3.org/2000/svg\" xmlns:xlink=\"http://www.w3.org/1999/xlink\">\n <metadata>\n  <rdf:RDF xmlns:cc=\"http://creativecommons.org/ns#\" xmlns:dc=\"http://purl.org/dc/elements/1.1/\" xmlns:rdf=\"http://www.w3.org/1999/02/22-rdf-syntax-ns#\">\n   <cc:Work>\n    <dc:type rdf:resource=\"http://purl.org/dc/dcmitype/StillImage\"/>\n    <dc:date>2020-09-17T14:12:26.587869</dc:date>\n    <dc:format>image/svg+xml</dc:format>\n    <dc:creator>\n     <cc:Agent>\n      <dc:title>Matplotlib v3.3.1, https://matplotlib.org/</dc:title>\n     </cc:Agent>\n    </dc:creator>\n   </cc:Work>\n  </rdf:RDF>\n </metadata>\n <defs>\n  <style type=\"text/css\">*{stroke-linecap:butt;stroke-linejoin:round;}</style>\n </defs>\n <g id=\"figure_1\">\n  <g id=\"patch_1\">\n   <path d=\"M 0 264.832977 \nL 388.965625 264.832977 \nL 388.965625 0 \nL 0 0 \nz\n\" style=\"fill:none;\"/>\n  </g>\n  <g id=\"axes_1\">\n   <g id=\"patch_2\">\n    <path d=\"M 46.965625 227.276727 \nL 381.765625 227.276727 \nL 381.765625 9.836727 \nL 46.965625 9.836727 \nz\n\" style=\"fill:#ffffff;\"/>\n   </g>\n   <g id=\"patch_3\">\n    <path clip-path=\"url(#pd7f7774a54)\" d=\"M 62.183807 227.276727 \nL 69.792898 227.276727 \nL 69.792898 226.465686 \nL 62.183807 226.465686 \nz\n\" style=\"fill:#1f77b4;\"/>\n   </g>\n   <g id=\"patch_4\">\n    <path clip-path=\"url(#pd7f7774a54)\" d=\"M 69.792898 227.276727 \nL 77.401989 227.276727 \nL 77.401989 226.736033 \nL 69.792898 226.736033 \nz\n\" style=\"fill:#1f77b4;\"/>\n   </g>\n   <g id=\"patch_5\">\n    <path clip-path=\"url(#pd7f7774a54)\" d=\"M 77.401989 227.276727 \nL 85.01108 227.276727 \nL 85.01108 226.465686 \nL 77.401989 226.465686 \nz\n\" style=\"fill:#1f77b4;\"/>\n   </g>\n   <g id=\"patch_6\">\n    <path clip-path=\"url(#pd7f7774a54)\" d=\"M 85.01108 227.276727 \nL 92.62017 227.276727 \nL 92.62017 225.384299 \nL 85.01108 225.384299 \nz\n\" style=\"fill:#1f77b4;\"/>\n   </g>\n   <g id=\"patch_7\">\n    <path clip-path=\"url(#pd7f7774a54)\" d=\"M 92.62017 227.276727 \nL 100.229261 227.276727 \nL 100.229261 224.302911 \nL 92.62017 224.302911 \nz\n\" style=\"fill:#1f77b4;\"/>\n   </g>\n   <g id=\"patch_8\">\n    <path clip-path=\"url(#pd7f7774a54)\" d=\"M 100.229261 227.276727 \nL 107.838352 227.276727 \nL 107.838352 221.599443 \nL 100.229261 221.599443 \nz\n\" style=\"fill:#1f77b4;\"/>\n   </g>\n   <g id=\"patch_9\">\n    <path clip-path=\"url(#pd7f7774a54)\" d=\"M 107.838352 227.276727 \nL 115.447443 227.276727 \nL 115.447443 217.003545 \nL 107.838352 217.003545 \nz\n\" style=\"fill:#1f77b4;\"/>\n   </g>\n   <g id=\"patch_10\">\n    <path clip-path=\"url(#pd7f7774a54)\" d=\"M 115.447443 227.276727 \nL 123.056534 227.276727 \nL 123.056534 209.70418 \nL 115.447443 209.70418 \nz\n\" style=\"fill:#1f77b4;\"/>\n   </g>\n   <g id=\"patch_11\">\n    <path clip-path=\"url(#pd7f7774a54)\" d=\"M 123.056534 227.276727 \nL 130.665625 227.276727 \nL 130.665625 205.378629 \nL 123.056534 205.378629 \nz\n\" style=\"fill:#1f77b4;\"/>\n   </g>\n   <g id=\"patch_12\">\n    <path clip-path=\"url(#pd7f7774a54)\" d=\"M 130.665625 227.276727 \nL 138.274716 227.276727 \nL 138.274716 194.835101 \nL 130.665625 194.835101 \nz\n\" style=\"fill:#1f77b4;\"/>\n   </g>\n   <g id=\"patch_13\">\n    <path clip-path=\"url(#pd7f7774a54)\" d=\"M 138.274716 227.276727 \nL 145.883807 227.276727 \nL 145.883807 180.777063 \nL 138.274716 180.777063 \nz\n\" style=\"fill:#1f77b4;\"/>\n   </g>\n   <g id=\"patch_14\">\n    <path clip-path=\"url(#pd7f7774a54)\" d=\"M 145.883807 227.276727 \nL 153.492898 227.276727 \nL 153.492898 159.960353 \nL 145.883807 159.960353 \nz\n\" style=\"fill:#1f77b4;\"/>\n   </g>\n   <g id=\"patch_15\">\n    <path clip-path=\"url(#pd7f7774a54)\" d=\"M 153.492898 227.276727 \nL 161.101989 227.276727 \nL 161.101989 142.387805 \nL 153.492898 142.387805 \nz\n\" style=\"fill:#1f77b4;\"/>\n   </g>\n   <g id=\"patch_16\">\n    <path clip-path=\"url(#pd7f7774a54)\" d=\"M 161.101989 227.276727 \nL 168.71108 227.276727 \nL 168.71108 125.085604 \nL 161.101989 125.085604 \nz\n\" style=\"fill:#1f77b4;\"/>\n   </g>\n   <g id=\"patch_17\">\n    <path clip-path=\"url(#pd7f7774a54)\" d=\"M 168.71108 227.276727 \nL 176.32017 227.276727 \nL 176.32017 100.484038 \nL 168.71108 100.484038 \nz\n\" style=\"fill:#1f77b4;\"/>\n   </g>\n   <g id=\"patch_18\">\n    <path clip-path=\"url(#pd7f7774a54)\" d=\"M 176.32017 227.276727 \nL 183.929261 227.276727 \nL 183.929261 85.074265 \nL 176.32017 85.074265 \nz\n\" style=\"fill:#1f77b4;\"/>\n   </g>\n   <g id=\"patch_19\">\n    <path clip-path=\"url(#pd7f7774a54)\" d=\"M 183.929261 227.276727 \nL 191.538352 227.276727 \nL 191.538352 59.120964 \nL 183.929261 59.120964 \nz\n\" style=\"fill:#1f77b4;\"/>\n   </g>\n   <g id=\"patch_20\">\n    <path clip-path=\"url(#pd7f7774a54)\" d=\"M 191.538352 227.276727 \nL 199.147443 227.276727 \nL 199.147443 46.955355 \nL 191.538352 46.955355 \nz\n\" style=\"fill:#1f77b4;\"/>\n   </g>\n   <g id=\"patch_21\">\n    <path clip-path=\"url(#pd7f7774a54)\" d=\"M 199.147443 227.276727 \nL 206.756534 227.276727 \nL 206.756534 22.353788 \nL 199.147443 22.353788 \nz\n\" style=\"fill:#1f77b4;\"/>\n   </g>\n   <g id=\"patch_22\">\n    <path clip-path=\"url(#pd7f7774a54)\" d=\"M 206.756534 227.276727 \nL 214.365625 227.276727 \nL 214.365625 20.191013 \nL 206.756534 20.191013 \nz\n\" style=\"fill:#1f77b4;\"/>\n   </g>\n   <g id=\"patch_23\">\n    <path clip-path=\"url(#pd7f7774a54)\" d=\"M 214.365625 227.276727 \nL 221.974716 227.276727 \nL 221.974716 24.516563 \nL 214.365625 24.516563 \nz\n\" style=\"fill:#1f77b4;\"/>\n   </g>\n   <g id=\"patch_24\">\n    <path clip-path=\"url(#pd7f7774a54)\" d=\"M 221.974716 227.276727 \nL 229.583807 227.276727 \nL 229.583807 35.600785 \nL 221.974716 35.600785 \nz\n\" style=\"fill:#1f77b4;\"/>\n   </g>\n   <g id=\"patch_25\">\n    <path clip-path=\"url(#pd7f7774a54)\" d=\"M 229.583807 227.276727 \nL 237.192898 227.276727 \nL 237.192898 34.519398 \nL 229.583807 34.519398 \nz\n\" style=\"fill:#1f77b4;\"/>\n   </g>\n   <g id=\"patch_26\">\n    <path clip-path=\"url(#pd7f7774a54)\" d=\"M 237.192898 227.276727 \nL 244.801989 227.276727 \nL 244.801989 73.179002 \nL 237.192898 73.179002 \nz\n\" style=\"fill:#1f77b4;\"/>\n   </g>\n   <g id=\"patch_27\">\n    <path clip-path=\"url(#pd7f7774a54)\" d=\"M 244.801989 227.276727 \nL 252.41108 227.276727 \nL 252.41108 89.129469 \nL 244.801989 89.129469 \nz\n\" style=\"fill:#1f77b4;\"/>\n   </g>\n   <g id=\"patch_28\">\n    <path clip-path=\"url(#pd7f7774a54)\" d=\"M 252.41108 227.276727 \nL 260.02017 227.276727 \nL 260.02017 124.815258 \nL 252.41108 124.815258 \nz\n\" style=\"fill:#1f77b4;\"/>\n   </g>\n   <g id=\"patch_29\">\n    <path clip-path=\"url(#pd7f7774a54)\" d=\"M 260.02017 227.276727 \nL 267.629261 227.276727 \nL 267.629261 133.196011 \nL 260.02017 133.196011 \nz\n\" style=\"fill:#1f77b4;\"/>\n   </g>\n   <g id=\"patch_30\">\n    <path clip-path=\"url(#pd7f7774a54)\" d=\"M 267.629261 227.276727 \nL 275.238352 227.276727 \nL 275.238352 156.71619 \nL 267.629261 156.71619 \nz\n\" style=\"fill:#1f77b4;\"/>\n   </g>\n   <g id=\"patch_31\">\n    <path clip-path=\"url(#pd7f7774a54)\" d=\"M 275.238352 227.276727 \nL 282.847443 227.276727 \nL 282.847443 183.210185 \nL 275.238352 183.210185 \nz\n\" style=\"fill:#1f77b4;\"/>\n   </g>\n   <g id=\"patch_32\">\n    <path clip-path=\"url(#pd7f7774a54)\" d=\"M 282.847443 227.276727 \nL 290.456534 227.276727 \nL 290.456534 197.268223 \nL 282.847443 197.268223 \nz\n\" style=\"fill:#1f77b4;\"/>\n   </g>\n   <g id=\"patch_33\">\n    <path clip-path=\"url(#pd7f7774a54)\" d=\"M 290.456534 227.276727 \nL 298.065625 227.276727 \nL 298.065625 207.000711 \nL 290.456534 207.000711 \nz\n\" style=\"fill:#1f77b4;\"/>\n   </g>\n   <g id=\"patch_34\">\n    <path clip-path=\"url(#pd7f7774a54)\" d=\"M 298.065625 227.276727 \nL 305.674716 227.276727 \nL 305.674716 211.596608 \nL 298.065625 211.596608 \nz\n\" style=\"fill:#1f77b4;\"/>\n   </g>\n   <g id=\"patch_35\">\n    <path clip-path=\"url(#pd7f7774a54)\" d=\"M 305.674716 227.276727 \nL 313.283807 227.276727 \nL 313.283807 218.084933 \nL 305.674716 218.084933 \nz\n\" style=\"fill:#1f77b4;\"/>\n   </g>\n   <g id=\"patch_36\">\n    <path clip-path=\"url(#pd7f7774a54)\" d=\"M 313.283807 227.276727 \nL 320.892898 227.276727 \nL 320.892898 220.788402 \nL 313.283807 220.788402 \nz\n\" style=\"fill:#1f77b4;\"/>\n   </g>\n   <g id=\"patch_37\">\n    <path clip-path=\"url(#pd7f7774a54)\" d=\"M 320.892898 227.276727 \nL 328.501989 227.276727 \nL 328.501989 224.302911 \nL 320.892898 224.302911 \nz\n\" style=\"fill:#1f77b4;\"/>\n   </g>\n   <g id=\"patch_38\">\n    <path clip-path=\"url(#pd7f7774a54)\" d=\"M 328.501989 227.276727 \nL 336.11108 227.276727 \nL 336.11108 225.924993 \nL 328.501989 225.924993 \nz\n\" style=\"fill:#1f77b4;\"/>\n   </g>\n   <g id=\"patch_39\">\n    <path clip-path=\"url(#pd7f7774a54)\" d=\"M 336.11108 227.276727 \nL 343.72017 227.276727 \nL 343.72017 227.00638 \nL 336.11108 227.00638 \nz\n\" style=\"fill:#1f77b4;\"/>\n   </g>\n   <g id=\"patch_40\">\n    <path clip-path=\"url(#pd7f7774a54)\" d=\"M 343.72017 227.276727 \nL 351.329261 227.276727 \nL 351.329261 226.736033 \nL 343.72017 226.736033 \nz\n\" style=\"fill:#1f77b4;\"/>\n   </g>\n   <g id=\"patch_41\">\n    <path clip-path=\"url(#pd7f7774a54)\" d=\"M 351.329261 227.276727 \nL 358.938352 227.276727 \nL 358.938352 227.00638 \nL 351.329261 227.00638 \nz\n\" style=\"fill:#1f77b4;\"/>\n   </g>\n   <g id=\"patch_42\">\n    <path clip-path=\"url(#pd7f7774a54)\" d=\"M 358.938352 227.276727 \nL 366.547443 227.276727 \nL 366.547443 226.736033 \nL 358.938352 226.736033 \nz\n\" style=\"fill:#1f77b4;\"/>\n   </g>\n   <g id=\"matplotlib.axis_1\">\n    <g id=\"xtick_1\">\n     <g id=\"line2d_1\">\n      <defs>\n       <path d=\"M 0 0 \nL 0 3.5 \n\" id=\"mc17c4ce32e\" style=\"stroke:#000000;stroke-width:0.8;\"/>\n      </defs>\n      <g>\n       <use style=\"stroke:#000000;stroke-width:0.8;\" x=\"53.941961\" xlink:href=\"#mc17c4ce32e\" y=\"227.276727\"/>\n      </g>\n     </g>\n     <g id=\"text_1\">\n      <!-- −4 -->\n      <g transform=\"translate(46.570868 241.875165)scale(0.1 -0.1)\">\n       <defs>\n        <path d=\"M 10.59375 35.5 \nL 73.1875 35.5 \nL 73.1875 27.203125 \nL 10.59375 27.203125 \nz\n\" id=\"DejaVuSans-8722\"/>\n        <path d=\"M 37.796875 64.3125 \nL 12.890625 25.390625 \nL 37.796875 25.390625 \nz\nM 35.203125 72.90625 \nL 47.609375 72.90625 \nL 47.609375 25.390625 \nL 58.015625 25.390625 \nL 58.015625 17.1875 \nL 47.609375 17.1875 \nL 47.609375 0 \nL 37.796875 0 \nL 37.796875 17.1875 \nL 4.890625 17.1875 \nL 4.890625 26.703125 \nz\n\" id=\"DejaVuSans-52\"/>\n       </defs>\n       <use xlink:href=\"#DejaVuSans-8722\"/>\n       <use x=\"83.789062\" xlink:href=\"#DejaVuSans-52\"/>\n      </g>\n     </g>\n    </g>\n    <g id=\"xtick_2\">\n     <g id=\"line2d_2\">\n      <g>\n       <use style=\"stroke:#000000;stroke-width:0.8;\" x=\"93.322757\" xlink:href=\"#mc17c4ce32e\" y=\"227.276727\"/>\n      </g>\n     </g>\n     <g id=\"text_2\">\n      <!-- −3 -->\n      <g transform=\"translate(85.951663 241.875165)scale(0.1 -0.1)\">\n       <defs>\n        <path d=\"M 40.578125 39.3125 \nQ 47.65625 37.796875 51.625 33 \nQ 55.609375 28.21875 55.609375 21.1875 \nQ 55.609375 10.40625 48.1875 4.484375 \nQ 40.765625 -1.421875 27.09375 -1.421875 \nQ 22.515625 -1.421875 17.65625 -0.515625 \nQ 12.796875 0.390625 7.625 2.203125 \nL 7.625 11.71875 \nQ 11.71875 9.328125 16.59375 8.109375 \nQ 21.484375 6.890625 26.8125 6.890625 \nQ 36.078125 6.890625 40.9375 10.546875 \nQ 45.796875 14.203125 45.796875 21.1875 \nQ 45.796875 27.640625 41.28125 31.265625 \nQ 36.765625 34.90625 28.71875 34.90625 \nL 20.21875 34.90625 \nL 20.21875 43.015625 \nL 29.109375 43.015625 \nQ 36.375 43.015625 40.234375 45.921875 \nQ 44.09375 48.828125 44.09375 54.296875 \nQ 44.09375 59.90625 40.109375 62.90625 \nQ 36.140625 65.921875 28.71875 65.921875 \nQ 24.65625 65.921875 20.015625 65.03125 \nQ 15.375 64.15625 9.8125 62.3125 \nL 9.8125 71.09375 \nQ 15.4375 72.65625 20.34375 73.4375 \nQ 25.25 74.21875 29.59375 74.21875 \nQ 40.828125 74.21875 47.359375 69.109375 \nQ 53.90625 64.015625 53.90625 55.328125 \nQ 53.90625 49.265625 50.4375 45.09375 \nQ 46.96875 40.921875 40.578125 39.3125 \nz\n\" id=\"DejaVuSans-51\"/>\n       </defs>\n       <use xlink:href=\"#DejaVuSans-8722\"/>\n       <use x=\"83.789062\" xlink:href=\"#DejaVuSans-51\"/>\n      </g>\n     </g>\n    </g>\n    <g id=\"xtick_3\">\n     <g id=\"line2d_3\">\n      <g>\n       <use style=\"stroke:#000000;stroke-width:0.8;\" x=\"132.703552\" xlink:href=\"#mc17c4ce32e\" y=\"227.276727\"/>\n      </g>\n     </g>\n     <g id=\"text_3\">\n      <!-- −2 -->\n      <g transform=\"translate(125.332458 241.875165)scale(0.1 -0.1)\">\n       <defs>\n        <path d=\"M 19.1875 8.296875 \nL 53.609375 8.296875 \nL 53.609375 0 \nL 7.328125 0 \nL 7.328125 8.296875 \nQ 12.9375 14.109375 22.625 23.890625 \nQ 32.328125 33.6875 34.8125 36.53125 \nQ 39.546875 41.84375 41.421875 45.53125 \nQ 43.3125 49.21875 43.3125 52.78125 \nQ 43.3125 58.59375 39.234375 62.25 \nQ 35.15625 65.921875 28.609375 65.921875 \nQ 23.96875 65.921875 18.8125 64.3125 \nQ 13.671875 62.703125 7.8125 59.421875 \nL 7.8125 69.390625 \nQ 13.765625 71.78125 18.9375 73 \nQ 24.125 74.21875 28.421875 74.21875 \nQ 39.75 74.21875 46.484375 68.546875 \nQ 53.21875 62.890625 53.21875 53.421875 \nQ 53.21875 48.921875 51.53125 44.890625 \nQ 49.859375 40.875 45.40625 35.40625 \nQ 44.1875 33.984375 37.640625 27.21875 \nQ 31.109375 20.453125 19.1875 8.296875 \nz\n\" id=\"DejaVuSans-50\"/>\n       </defs>\n       <use xlink:href=\"#DejaVuSans-8722\"/>\n       <use x=\"83.789062\" xlink:href=\"#DejaVuSans-50\"/>\n      </g>\n     </g>\n    </g>\n    <g id=\"xtick_4\">\n     <g id=\"line2d_4\">\n      <g>\n       <use style=\"stroke:#000000;stroke-width:0.8;\" x=\"172.084347\" xlink:href=\"#mc17c4ce32e\" y=\"227.276727\"/>\n      </g>\n     </g>\n     <g id=\"text_4\">\n      <!-- −1 -->\n      <g transform=\"translate(164.713253 241.875165)scale(0.1 -0.1)\">\n       <defs>\n        <path d=\"M 12.40625 8.296875 \nL 28.515625 8.296875 \nL 28.515625 63.921875 \nL 10.984375 60.40625 \nL 10.984375 69.390625 \nL 28.421875 72.90625 \nL 38.28125 72.90625 \nL 38.28125 8.296875 \nL 54.390625 8.296875 \nL 54.390625 0 \nL 12.40625 0 \nz\n\" id=\"DejaVuSans-49\"/>\n       </defs>\n       <use xlink:href=\"#DejaVuSans-8722\"/>\n       <use x=\"83.789062\" xlink:href=\"#DejaVuSans-49\"/>\n      </g>\n     </g>\n    </g>\n    <g id=\"xtick_5\">\n     <g id=\"line2d_5\">\n      <g>\n       <use style=\"stroke:#000000;stroke-width:0.8;\" x=\"211.465142\" xlink:href=\"#mc17c4ce32e\" y=\"227.276727\"/>\n      </g>\n     </g>\n     <g id=\"text_5\">\n      <!-- 0 -->\n      <g transform=\"translate(208.283892 241.875165)scale(0.1 -0.1)\">\n       <defs>\n        <path d=\"M 31.78125 66.40625 \nQ 24.171875 66.40625 20.328125 58.90625 \nQ 16.5 51.421875 16.5 36.375 \nQ 16.5 21.390625 20.328125 13.890625 \nQ 24.171875 6.390625 31.78125 6.390625 \nQ 39.453125 6.390625 43.28125 13.890625 \nQ 47.125 21.390625 47.125 36.375 \nQ 47.125 51.421875 43.28125 58.90625 \nQ 39.453125 66.40625 31.78125 66.40625 \nz\nM 31.78125 74.21875 \nQ 44.046875 74.21875 50.515625 64.515625 \nQ 56.984375 54.828125 56.984375 36.375 \nQ 56.984375 17.96875 50.515625 8.265625 \nQ 44.046875 -1.421875 31.78125 -1.421875 \nQ 19.53125 -1.421875 13.0625 8.265625 \nQ 6.59375 17.96875 6.59375 36.375 \nQ 6.59375 54.828125 13.0625 64.515625 \nQ 19.53125 74.21875 31.78125 74.21875 \nz\n\" id=\"DejaVuSans-48\"/>\n       </defs>\n       <use xlink:href=\"#DejaVuSans-48\"/>\n      </g>\n     </g>\n    </g>\n    <g id=\"xtick_6\">\n     <g id=\"line2d_6\">\n      <g>\n       <use style=\"stroke:#000000;stroke-width:0.8;\" x=\"250.845938\" xlink:href=\"#mc17c4ce32e\" y=\"227.276727\"/>\n      </g>\n     </g>\n     <g id=\"text_6\">\n      <!-- 1 -->\n      <g transform=\"translate(247.664688 241.875165)scale(0.1 -0.1)\">\n       <use xlink:href=\"#DejaVuSans-49\"/>\n      </g>\n     </g>\n    </g>\n    <g id=\"xtick_7\">\n     <g id=\"line2d_7\">\n      <g>\n       <use style=\"stroke:#000000;stroke-width:0.8;\" x=\"290.226733\" xlink:href=\"#mc17c4ce32e\" y=\"227.276727\"/>\n      </g>\n     </g>\n     <g id=\"text_7\">\n      <!-- 2 -->\n      <g transform=\"translate(287.045483 241.875165)scale(0.1 -0.1)\">\n       <use xlink:href=\"#DejaVuSans-50\"/>\n      </g>\n     </g>\n    </g>\n    <g id=\"xtick_8\">\n     <g id=\"line2d_8\">\n      <g>\n       <use style=\"stroke:#000000;stroke-width:0.8;\" x=\"329.607528\" xlink:href=\"#mc17c4ce32e\" y=\"227.276727\"/>\n      </g>\n     </g>\n     <g id=\"text_8\">\n      <!-- 3 -->\n      <g transform=\"translate(326.426278 241.875165)scale(0.1 -0.1)\">\n       <use xlink:href=\"#DejaVuSans-51\"/>\n      </g>\n     </g>\n    </g>\n    <g id=\"xtick_9\">\n     <g id=\"line2d_9\">\n      <g>\n       <use style=\"stroke:#000000;stroke-width:0.8;\" x=\"368.988323\" xlink:href=\"#mc17c4ce32e\" y=\"227.276727\"/>\n      </g>\n     </g>\n     <g id=\"text_9\">\n      <!-- 4 -->\n      <g transform=\"translate(365.807073 241.875165)scale(0.1 -0.1)\">\n       <use xlink:href=\"#DejaVuSans-52\"/>\n      </g>\n     </g>\n    </g>\n    <g id=\"text_10\">\n     <!-- X label -->\n     <g transform=\"translate(197.258594 255.55329)scale(0.1 -0.1)\">\n      <defs>\n       <path d=\"M 6.296875 72.90625 \nL 16.890625 72.90625 \nL 35.015625 45.796875 \nL 53.21875 72.90625 \nL 63.8125 72.90625 \nL 40.375 37.890625 \nL 65.375 0 \nL 54.78125 0 \nL 34.28125 31 \nL 13.625 0 \nL 2.984375 0 \nL 29 38.921875 \nz\n\" id=\"DejaVuSans-88\"/>\n       <path id=\"DejaVuSans-32\"/>\n       <path d=\"M 9.421875 75.984375 \nL 18.40625 75.984375 \nL 18.40625 0 \nL 9.421875 0 \nz\n\" id=\"DejaVuSans-108\"/>\n       <path d=\"M 34.28125 27.484375 \nQ 23.390625 27.484375 19.1875 25 \nQ 14.984375 22.515625 14.984375 16.5 \nQ 14.984375 11.71875 18.140625 8.90625 \nQ 21.296875 6.109375 26.703125 6.109375 \nQ 34.1875 6.109375 38.703125 11.40625 \nQ 43.21875 16.703125 43.21875 25.484375 \nL 43.21875 27.484375 \nz\nM 52.203125 31.203125 \nL 52.203125 0 \nL 43.21875 0 \nL 43.21875 8.296875 \nQ 40.140625 3.328125 35.546875 0.953125 \nQ 30.953125 -1.421875 24.3125 -1.421875 \nQ 15.921875 -1.421875 10.953125 3.296875 \nQ 6 8.015625 6 15.921875 \nQ 6 25.140625 12.171875 29.828125 \nQ 18.359375 34.515625 30.609375 34.515625 \nL 43.21875 34.515625 \nL 43.21875 35.40625 \nQ 43.21875 41.609375 39.140625 45 \nQ 35.0625 48.390625 27.6875 48.390625 \nQ 23 48.390625 18.546875 47.265625 \nQ 14.109375 46.140625 10.015625 43.890625 \nL 10.015625 52.203125 \nQ 14.9375 54.109375 19.578125 55.046875 \nQ 24.21875 56 28.609375 56 \nQ 40.484375 56 46.34375 49.84375 \nQ 52.203125 43.703125 52.203125 31.203125 \nz\n\" id=\"DejaVuSans-97\"/>\n       <path d=\"M 48.6875 27.296875 \nQ 48.6875 37.203125 44.609375 42.84375 \nQ 40.53125 48.484375 33.40625 48.484375 \nQ 26.265625 48.484375 22.1875 42.84375 \nQ 18.109375 37.203125 18.109375 27.296875 \nQ 18.109375 17.390625 22.1875 11.75 \nQ 26.265625 6.109375 33.40625 6.109375 \nQ 40.53125 6.109375 44.609375 11.75 \nQ 48.6875 17.390625 48.6875 27.296875 \nz\nM 18.109375 46.390625 \nQ 20.953125 51.265625 25.265625 53.625 \nQ 29.59375 56 35.59375 56 \nQ 45.5625 56 51.78125 48.09375 \nQ 58.015625 40.1875 58.015625 27.296875 \nQ 58.015625 14.40625 51.78125 6.484375 \nQ 45.5625 -1.421875 35.59375 -1.421875 \nQ 29.59375 -1.421875 25.265625 0.953125 \nQ 20.953125 3.328125 18.109375 8.203125 \nL 18.109375 0 \nL 9.078125 0 \nL 9.078125 75.984375 \nL 18.109375 75.984375 \nz\n\" id=\"DejaVuSans-98\"/>\n       <path d=\"M 56.203125 29.59375 \nL 56.203125 25.203125 \nL 14.890625 25.203125 \nQ 15.484375 15.921875 20.484375 11.0625 \nQ 25.484375 6.203125 34.421875 6.203125 \nQ 39.59375 6.203125 44.453125 7.46875 \nQ 49.3125 8.734375 54.109375 11.28125 \nL 54.109375 2.78125 \nQ 49.265625 0.734375 44.1875 -0.34375 \nQ 39.109375 -1.421875 33.890625 -1.421875 \nQ 20.796875 -1.421875 13.15625 6.1875 \nQ 5.515625 13.8125 5.515625 26.8125 \nQ 5.515625 40.234375 12.765625 48.109375 \nQ 20.015625 56 32.328125 56 \nQ 43.359375 56 49.78125 48.890625 \nQ 56.203125 41.796875 56.203125 29.59375 \nz\nM 47.21875 32.234375 \nQ 47.125 39.59375 43.09375 43.984375 \nQ 39.0625 48.390625 32.421875 48.390625 \nQ 24.90625 48.390625 20.390625 44.140625 \nQ 15.875 39.890625 15.1875 32.171875 \nz\n\" id=\"DejaVuSans-101\"/>\n      </defs>\n      <use xlink:href=\"#DejaVuSans-88\"/>\n      <use x=\"68.505859\" xlink:href=\"#DejaVuSans-32\"/>\n      <use x=\"100.292969\" xlink:href=\"#DejaVuSans-108\"/>\n      <use x=\"128.076172\" xlink:href=\"#DejaVuSans-97\"/>\n      <use x=\"189.355469\" xlink:href=\"#DejaVuSans-98\"/>\n      <use x=\"252.832031\" xlink:href=\"#DejaVuSans-101\"/>\n      <use x=\"314.355469\" xlink:href=\"#DejaVuSans-108\"/>\n     </g>\n    </g>\n   </g>\n   <g id=\"matplotlib.axis_2\">\n    <g id=\"ytick_1\">\n     <g id=\"line2d_10\">\n      <defs>\n       <path d=\"M 0 0 \nL -3.5 0 \n\" id=\"m84d283df50\" style=\"stroke:#000000;stroke-width:0.8;\"/>\n      </defs>\n      <g>\n       <use style=\"stroke:#000000;stroke-width:0.8;\" x=\"46.965625\" xlink:href=\"#m84d283df50\" y=\"227.276727\"/>\n      </g>\n     </g>\n     <g id=\"text_11\">\n      <!-- 0 -->\n      <g transform=\"translate(33.603125 231.075946)scale(0.1 -0.1)\">\n       <use xlink:href=\"#DejaVuSans-48\"/>\n      </g>\n     </g>\n    </g>\n    <g id=\"ytick_2\">\n     <g id=\"line2d_11\">\n      <g>\n       <use style=\"stroke:#000000;stroke-width:0.8;\" x=\"46.965625\" xlink:href=\"#m84d283df50\" y=\"200.242039\"/>\n      </g>\n     </g>\n     <g id=\"text_12\">\n      <!-- 100 -->\n      <g transform=\"translate(20.878125 204.041257)scale(0.1 -0.1)\">\n       <use xlink:href=\"#DejaVuSans-49\"/>\n       <use x=\"63.623047\" xlink:href=\"#DejaVuSans-48\"/>\n       <use x=\"127.246094\" xlink:href=\"#DejaVuSans-48\"/>\n      </g>\n     </g>\n    </g>\n    <g id=\"ytick_3\">\n     <g id=\"line2d_12\">\n      <g>\n       <use style=\"stroke:#000000;stroke-width:0.8;\" x=\"46.965625\" xlink:href=\"#m84d283df50\" y=\"173.20735\"/>\n      </g>\n     </g>\n     <g id=\"text_13\">\n      <!-- 200 -->\n      <g transform=\"translate(20.878125 177.006569)scale(0.1 -0.1)\">\n       <use xlink:href=\"#DejaVuSans-50\"/>\n       <use x=\"63.623047\" xlink:href=\"#DejaVuSans-48\"/>\n       <use x=\"127.246094\" xlink:href=\"#DejaVuSans-48\"/>\n      </g>\n     </g>\n    </g>\n    <g id=\"ytick_4\">\n     <g id=\"line2d_13\">\n      <g>\n       <use style=\"stroke:#000000;stroke-width:0.8;\" x=\"46.965625\" xlink:href=\"#m84d283df50\" y=\"146.172661\"/>\n      </g>\n     </g>\n     <g id=\"text_14\">\n      <!-- 300 -->\n      <g transform=\"translate(20.878125 149.97188)scale(0.1 -0.1)\">\n       <use xlink:href=\"#DejaVuSans-51\"/>\n       <use x=\"63.623047\" xlink:href=\"#DejaVuSans-48\"/>\n       <use x=\"127.246094\" xlink:href=\"#DejaVuSans-48\"/>\n      </g>\n     </g>\n    </g>\n    <g id=\"ytick_5\">\n     <g id=\"line2d_14\">\n      <g>\n       <use style=\"stroke:#000000;stroke-width:0.8;\" x=\"46.965625\" xlink:href=\"#m84d283df50\" y=\"119.137973\"/>\n      </g>\n     </g>\n     <g id=\"text_15\">\n      <!-- 400 -->\n      <g transform=\"translate(20.878125 122.937192)scale(0.1 -0.1)\">\n       <use xlink:href=\"#DejaVuSans-52\"/>\n       <use x=\"63.623047\" xlink:href=\"#DejaVuSans-48\"/>\n       <use x=\"127.246094\" xlink:href=\"#DejaVuSans-48\"/>\n      </g>\n     </g>\n    </g>\n    <g id=\"ytick_6\">\n     <g id=\"line2d_15\">\n      <g>\n       <use style=\"stroke:#000000;stroke-width:0.8;\" x=\"46.965625\" xlink:href=\"#m84d283df50\" y=\"92.103284\"/>\n      </g>\n     </g>\n     <g id=\"text_16\">\n      <!-- 500 -->\n      <g transform=\"translate(20.878125 95.902503)scale(0.1 -0.1)\">\n       <defs>\n        <path d=\"M 10.796875 72.90625 \nL 49.515625 72.90625 \nL 49.515625 64.59375 \nL 19.828125 64.59375 \nL 19.828125 46.734375 \nQ 21.96875 47.46875 24.109375 47.828125 \nQ 26.265625 48.1875 28.421875 48.1875 \nQ 40.625 48.1875 47.75 41.5 \nQ 54.890625 34.8125 54.890625 23.390625 \nQ 54.890625 11.625 47.5625 5.09375 \nQ 40.234375 -1.421875 26.90625 -1.421875 \nQ 22.3125 -1.421875 17.546875 -0.640625 \nQ 12.796875 0.140625 7.71875 1.703125 \nL 7.71875 11.625 \nQ 12.109375 9.234375 16.796875 8.0625 \nQ 21.484375 6.890625 26.703125 6.890625 \nQ 35.15625 6.890625 40.078125 11.328125 \nQ 45.015625 15.765625 45.015625 23.390625 \nQ 45.015625 31 40.078125 35.4375 \nQ 35.15625 39.890625 26.703125 39.890625 \nQ 22.75 39.890625 18.8125 39.015625 \nQ 14.890625 38.140625 10.796875 36.28125 \nz\n\" id=\"DejaVuSans-53\"/>\n       </defs>\n       <use xlink:href=\"#DejaVuSans-53\"/>\n       <use x=\"63.623047\" xlink:href=\"#DejaVuSans-48\"/>\n       <use x=\"127.246094\" xlink:href=\"#DejaVuSans-48\"/>\n      </g>\n     </g>\n    </g>\n    <g id=\"ytick_7\">\n     <g id=\"line2d_16\">\n      <g>\n       <use style=\"stroke:#000000;stroke-width:0.8;\" x=\"46.965625\" xlink:href=\"#m84d283df50\" y=\"65.068596\"/>\n      </g>\n     </g>\n     <g id=\"text_17\">\n      <!-- 600 -->\n      <g transform=\"translate(20.878125 68.867815)scale(0.1 -0.1)\">\n       <defs>\n        <path d=\"M 33.015625 40.375 \nQ 26.375 40.375 22.484375 35.828125 \nQ 18.609375 31.296875 18.609375 23.390625 \nQ 18.609375 15.53125 22.484375 10.953125 \nQ 26.375 6.390625 33.015625 6.390625 \nQ 39.65625 6.390625 43.53125 10.953125 \nQ 47.40625 15.53125 47.40625 23.390625 \nQ 47.40625 31.296875 43.53125 35.828125 \nQ 39.65625 40.375 33.015625 40.375 \nz\nM 52.59375 71.296875 \nL 52.59375 62.3125 \nQ 48.875 64.0625 45.09375 64.984375 \nQ 41.3125 65.921875 37.59375 65.921875 \nQ 27.828125 65.921875 22.671875 59.328125 \nQ 17.53125 52.734375 16.796875 39.40625 \nQ 19.671875 43.65625 24.015625 45.921875 \nQ 28.375 48.1875 33.59375 48.1875 \nQ 44.578125 48.1875 50.953125 41.515625 \nQ 57.328125 34.859375 57.328125 23.390625 \nQ 57.328125 12.15625 50.6875 5.359375 \nQ 44.046875 -1.421875 33.015625 -1.421875 \nQ 20.359375 -1.421875 13.671875 8.265625 \nQ 6.984375 17.96875 6.984375 36.375 \nQ 6.984375 53.65625 15.1875 63.9375 \nQ 23.390625 74.21875 37.203125 74.21875 \nQ 40.921875 74.21875 44.703125 73.484375 \nQ 48.484375 72.75 52.59375 71.296875 \nz\n\" id=\"DejaVuSans-54\"/>\n       </defs>\n       <use xlink:href=\"#DejaVuSans-54\"/>\n       <use x=\"63.623047\" xlink:href=\"#DejaVuSans-48\"/>\n       <use x=\"127.246094\" xlink:href=\"#DejaVuSans-48\"/>\n      </g>\n     </g>\n    </g>\n    <g id=\"ytick_8\">\n     <g id=\"line2d_17\">\n      <g>\n       <use style=\"stroke:#000000;stroke-width:0.8;\" x=\"46.965625\" xlink:href=\"#m84d283df50\" y=\"38.033907\"/>\n      </g>\n     </g>\n     <g id=\"text_18\">\n      <!-- 700 -->\n      <g transform=\"translate(20.878125 41.833126)scale(0.1 -0.1)\">\n       <defs>\n        <path d=\"M 8.203125 72.90625 \nL 55.078125 72.90625 \nL 55.078125 68.703125 \nL 28.609375 0 \nL 18.3125 0 \nL 43.21875 64.59375 \nL 8.203125 64.59375 \nz\n\" id=\"DejaVuSans-55\"/>\n       </defs>\n       <use xlink:href=\"#DejaVuSans-55\"/>\n       <use x=\"63.623047\" xlink:href=\"#DejaVuSans-48\"/>\n       <use x=\"127.246094\" xlink:href=\"#DejaVuSans-48\"/>\n      </g>\n     </g>\n    </g>\n    <g id=\"ytick_9\">\n     <g id=\"line2d_18\">\n      <g>\n       <use style=\"stroke:#000000;stroke-width:0.8;\" x=\"46.965625\" xlink:href=\"#m84d283df50\" y=\"10.999219\"/>\n      </g>\n     </g>\n     <g id=\"text_19\">\n      <!-- 800 -->\n      <g transform=\"translate(20.878125 14.798437)scale(0.1 -0.1)\">\n       <defs>\n        <path d=\"M 31.78125 34.625 \nQ 24.75 34.625 20.71875 30.859375 \nQ 16.703125 27.09375 16.703125 20.515625 \nQ 16.703125 13.921875 20.71875 10.15625 \nQ 24.75 6.390625 31.78125 6.390625 \nQ 38.8125 6.390625 42.859375 10.171875 \nQ 46.921875 13.96875 46.921875 20.515625 \nQ 46.921875 27.09375 42.890625 30.859375 \nQ 38.875 34.625 31.78125 34.625 \nz\nM 21.921875 38.8125 \nQ 15.578125 40.375 12.03125 44.71875 \nQ 8.5 49.078125 8.5 55.328125 \nQ 8.5 64.0625 14.71875 69.140625 \nQ 20.953125 74.21875 31.78125 74.21875 \nQ 42.671875 74.21875 48.875 69.140625 \nQ 55.078125 64.0625 55.078125 55.328125 \nQ 55.078125 49.078125 51.53125 44.71875 \nQ 48 40.375 41.703125 38.8125 \nQ 48.828125 37.15625 52.796875 32.3125 \nQ 56.78125 27.484375 56.78125 20.515625 \nQ 56.78125 9.90625 50.3125 4.234375 \nQ 43.84375 -1.421875 31.78125 -1.421875 \nQ 19.734375 -1.421875 13.25 4.234375 \nQ 6.78125 9.90625 6.78125 20.515625 \nQ 6.78125 27.484375 10.78125 32.3125 \nQ 14.796875 37.15625 21.921875 38.8125 \nz\nM 18.3125 54.390625 \nQ 18.3125 48.734375 21.84375 45.5625 \nQ 25.390625 42.390625 31.78125 42.390625 \nQ 38.140625 42.390625 41.71875 45.5625 \nQ 45.3125 48.734375 45.3125 54.390625 \nQ 45.3125 60.0625 41.71875 63.234375 \nQ 38.140625 66.40625 31.78125 66.40625 \nQ 25.390625 66.40625 21.84375 63.234375 \nQ 18.3125 60.0625 18.3125 54.390625 \nz\n\" id=\"DejaVuSans-56\"/>\n       </defs>\n       <use xlink:href=\"#DejaVuSans-56\"/>\n       <use x=\"63.623047\" xlink:href=\"#DejaVuSans-48\"/>\n       <use x=\"127.246094\" xlink:href=\"#DejaVuSans-48\"/>\n      </g>\n     </g>\n    </g>\n    <g id=\"text_20\">\n     <!-- Y label -->\n     <g transform=\"translate(14.798438 135.292665)rotate(-90)scale(0.1 -0.1)\">\n      <defs>\n       <path d=\"M -0.203125 72.90625 \nL 10.40625 72.90625 \nL 30.609375 42.921875 \nL 50.6875 72.90625 \nL 61.28125 72.90625 \nL 35.5 34.71875 \nL 35.5 0 \nL 25.59375 0 \nL 25.59375 34.71875 \nz\n\" id=\"DejaVuSans-89\"/>\n      </defs>\n      <use xlink:href=\"#DejaVuSans-89\"/>\n      <use x=\"61.083984\" xlink:href=\"#DejaVuSans-32\"/>\n      <use x=\"92.871094\" xlink:href=\"#DejaVuSans-108\"/>\n      <use x=\"120.654297\" xlink:href=\"#DejaVuSans-97\"/>\n      <use x=\"181.933594\" xlink:href=\"#DejaVuSans-98\"/>\n      <use x=\"245.410156\" xlink:href=\"#DejaVuSans-101\"/>\n      <use x=\"306.933594\" xlink:href=\"#DejaVuSans-108\"/>\n     </g>\n    </g>\n   </g>\n   <g id=\"patch_43\">\n    <path d=\"M 46.965625 227.276727 \nL 46.965625 9.836727 \n\" style=\"fill:none;stroke:#000000;stroke-linecap:square;stroke-linejoin:miter;stroke-width:0.8;\"/>\n   </g>\n   <g id=\"patch_44\">\n    <path d=\"M 381.765625 227.276727 \nL 381.765625 9.836727 \n\" style=\"fill:none;stroke:#000000;stroke-linecap:square;stroke-linejoin:miter;stroke-width:0.8;\"/>\n   </g>\n   <g id=\"patch_45\">\n    <path d=\"M 46.965625 227.276727 \nL 381.765625 227.276727 \n\" style=\"fill:none;stroke:#000000;stroke-linecap:square;stroke-linejoin:miter;stroke-width:0.8;\"/>\n   </g>\n   <g id=\"patch_46\">\n    <path d=\"M 46.965625 9.836727 \nL 381.765625 9.836727 \n\" style=\"fill:none;stroke:#000000;stroke-linecap:square;stroke-linejoin:miter;stroke-width:0.8;\"/>\n   </g>\n  </g>\n </g>\n <defs>\n  <clipPath id=\"pd7f7774a54\">\n   <rect height=\"217.44\" width=\"334.8\" x=\"46.965625\" y=\"9.836727\"/>\n  </clipPath>\n </defs>\n</svg>\n",
      "image/png": "[encoded data removed]"
     },
     "metadata": {
      "needs_background": "light"
     }
    }
   ],
   "source": [
    "# Matplotlib is used for plotting, plots are directly embedded in the\n",
    "# notebook thanks to the '%matplolib inline' command at the beginning\n",
    "plt.hist(np.random.randn(10000), bins=40)\n",
    "plt.xlabel('X label')\n",
    "plt.ylabel('Y label')"
   ]
  },
  {
   "cell_type": "markdown",
   "metadata": {},
   "source": [
    "Numpy Basics\n",
    "============"
   ]
  },
  {
   "cell_type": "markdown",
   "metadata": {},
   "source": [
    "**IMPORTANT** : the numpy documentation is quite good. The Notebook system is really good to help you. Use the Auto-Completion with `Tab`, and use `Shift+Tab` to get the complete documentation about the current function (when the cursor is between the parenthesis of the function for instance).\n",
    "\n",
    "For example, you want to multiply two arrays. `np.mul` + `Tab` complete to the only valid function `np.multiply`. Then using `Shift+Tab` you learn `np.multiply` is actually the element-wise multiplication and is equivalent to the `*` operator."
   ]
  },
  {
   "cell_type": "code",
   "execution_count": 11,
   "metadata": {
    "collapsed": false
   },
   "outputs": [
    {
     "output_type": "execute_result",
     "data": {
      "text/plain": "array([2])"
     },
     "metadata": {},
     "execution_count": 11
    }
   ],
   "source": [
    "np.multiply([1], [2])"
   ]
  },
  {
   "cell_type": "markdown",
   "metadata": {},
   "source": [
    "### Creation of arrays\n",
    "\n",
    "Creating ndarrays (`np.zeros`, `np.ones`) is done by giving the shape as an iterable (List or Tuple). An integer is also accepted for one-dimensional array.\n",
    "\n",
    "`np.eye` creates an identity matrix.\n",
    "\n",
    "You can also create an array by giving iterables to it.\n",
    "\n",
    "(NB : The random functions `np.random.rand` and `np.random.randn` are exceptions though)"
   ]
  },
  {
   "cell_type": "code",
   "execution_count": 12,
   "metadata": {
    "collapsed": false
   },
   "outputs": [
    {
     "output_type": "execute_result",
     "data": {
      "text/plain": "array([0., 0., 0., 0.])"
     },
     "metadata": {},
     "execution_count": 12
    }
   ],
   "source": [
    "np.zeros(4)"
   ]
  },
  {
   "cell_type": "code",
   "execution_count": 13,
   "metadata": {
    "collapsed": false
   },
   "outputs": [
    {
     "output_type": "execute_result",
     "data": {
      "text/plain": "array([[1., 0., 0.],\n       [0., 1., 0.],\n       [0., 0., 1.]])"
     },
     "metadata": {},
     "execution_count": 13
    }
   ],
   "source": [
    "np.eye(3)"
   ]
  },
  {
   "cell_type": "code",
   "execution_count": 14,
   "metadata": {
    "collapsed": false
   },
   "outputs": [
    {
     "output_type": "execute_result",
     "data": {
      "text/plain": "array([[1, 3, 4],\n       [2, 5, 6]])"
     },
     "metadata": {},
     "execution_count": 14
    }
   ],
   "source": [
    "np.array([[1,3,4],[2,5,6]])"
   ]
  },
  {
   "cell_type": "code",
   "execution_count": 15,
   "metadata": {
    "collapsed": false
   },
   "outputs": [
    {
     "output_type": "execute_result",
     "data": {
      "text/plain": "array([0, 1, 2, 3, 4, 5, 6, 7, 8, 9])"
     },
     "metadata": {},
     "execution_count": 15
    }
   ],
   "source": [
    "np.arange(10)  # NB : np.array(range(10)) is a slightly more complicated equivalent"
   ]
  },
  {
   "cell_type": "code",
   "execution_count": 16,
   "metadata": {
    "collapsed": false
   },
   "outputs": [
    {
     "output_type": "execute_result",
     "data": {
      "text/plain": "array([[-0.52553066, -0.22062359, -0.52563811,  0.35710263],\n       [-3.38068827,  1.30995886,  0.90237115,  0.27411239],\n       [ 1.485997  ,  0.33040939, -0.25988779, -1.39972012]])"
     },
     "metadata": {},
     "execution_count": 16
    }
   ],
   "source": [
    "np.random.randn(3, 4) # normal distributed values"
   ]
  },
  {
   "cell_type": "code",
   "execution_count": 17,
   "metadata": {
    "collapsed": false
   },
   "outputs": [
    {
     "output_type": "execute_result",
     "data": {
      "text/plain": "array([[[1., 1.],\n        [1., 1.],\n        [1., 1.],\n        [1., 1.]],\n\n       [[1., 1.],\n        [1., 1.],\n        [1., 1.],\n        [1., 1.]]])"
     },
     "metadata": {},
     "execution_count": 17
    }
   ],
   "source": [
    "# 3-D tensor\n",
    "tensor_3 = np.ones((2, 4, 2))\n",
    "tensor_3"
   ]
  },
  {
   "cell_type": "markdown",
   "metadata": {},
   "source": [
    "### ndarray basics\n",
    "\n",
    "A ndarray python object is just a reference to the data location and its characteristics.\n",
    "\n",
    "All numpy operations applying on an array can be called np._function_(a) or a._function_() (i.e `np.sum(a)` or `a.sum()`)\n",
    "\n",
    "It has an attribute `shape` that returns a tuple of the different dimensions of the ndarray. It also has an attribute `dtype` that describes the type of data of the object (default type is `float64`)\n",
    "\n",
    "**WARNING** because of the object structure, unless you call `copy()` copying the reference is not copying the data."
   ]
  },
  {
   "cell_type": "code",
   "execution_count": 18,
   "metadata": {
    "collapsed": false
   },
   "outputs": [
    {
     "output_type": "execute_result",
     "data": {
      "text/plain": "((2, 4, 2), dtype('float64'))"
     },
     "metadata": {},
     "execution_count": 18
    }
   ],
   "source": [
    "tensor_3.shape, tensor_3.dtype"
   ]
  },
  {
   "cell_type": "code",
   "execution_count": 19,
   "metadata": {
    "collapsed": false
   },
   "outputs": [
    {
     "output_type": "execute_result",
     "data": {
      "text/plain": "(dtype('int64'), dtype('float64'))"
     },
     "metadata": {},
     "execution_count": 19
    }
   ],
   "source": [
    "a = np.array([[1.0, 2.0], [5.0, 4.0]])\n",
    "b = np.array([[4, 3], [2, 1]])\n",
    "(b.dtype, a.dtype) # each array has a data type (casting rules apply for int -> float)"
   ]
  },
  {
   "cell_type": "code",
   "execution_count": 20,
   "metadata": {
    "collapsed": false
   },
   "outputs": [
    {
     "output_type": "execute_result",
     "data": {
      "text/plain": "array(['Mickey', 'Mouse'], dtype='<U6')"
     },
     "metadata": {},
     "execution_count": 20
    }
   ],
   "source": [
    "np.array([\"Mickey\", \"Mouse\"]) # can hold more than just numbers"
   ]
  },
  {
   "cell_type": "code",
   "execution_count": 21,
   "metadata": {
    "collapsed": false
   },
   "outputs": [
    {
     "output_type": "execute_result",
     "data": {
      "text/plain": "array([[3., 2.],\n       [5., 4.]])"
     },
     "metadata": {},
     "execution_count": 21
    }
   ],
   "source": [
    "a = np.array([[1.0, 2.0], [5.0, 4.0]])\n",
    "b = a  # Copying the reference only\n",
    "b[0,0] = 3\n",
    "a"
   ]
  },
  {
   "cell_type": "code",
   "execution_count": 22,
   "metadata": {
    "collapsed": false
   },
   "outputs": [
    {
     "output_type": "execute_result",
     "data": {
      "text/plain": "array([[1., 2.],\n       [5., 4.]])"
     },
     "metadata": {},
     "execution_count": 22
    }
   ],
   "source": [
    "a = np.array([[1.0, 2.0], [5.0, 4.0]])\n",
    "b = a.copy()  # Deep-copy of the data\n",
    "b[0,0] = 3\n",
    "a"
   ]
  },
  {
   "cell_type": "markdown",
   "metadata": {},
   "source": [
    "#### Basic operators are working element-wise (+, -, *, /)\n",
    "\n",
    "When trying to apply operators for arrays with different sizes, they are very specific rules that you might want to understand in the future : http://docs.scipy.org/doc/numpy/user/basics.broadcasting.html"
   ]
  },
  {
   "cell_type": "code",
   "execution_count": 23,
   "metadata": {
    "collapsed": false
   },
   "outputs": [
    {
     "output_type": "execute_result",
     "data": {
      "text/plain": "array([[-0.85288868, -0.27520544,  0.67309044, -1.30378628],\n       [-1.84331442, -1.56350495,  0.64369679,  0.23859358]])"
     },
     "metadata": {},
     "execution_count": 23
    }
   ],
   "source": [
    "np.ones((2, 4)) * np.random.randn(2, 4)"
   ]
  },
  {
   "cell_type": "code",
   "execution_count": 24,
   "metadata": {
    "collapsed": false
   },
   "outputs": [
    {
     "output_type": "execute_result",
     "data": {
      "text/plain": "array([[ 0., -1., -1.],\n       [-1.,  0., -1.],\n       [-1., -1.,  0.]])"
     },
     "metadata": {},
     "execution_count": 24
    }
   ],
   "source": [
    "np.eye(3) - np.ones((3,3))"
   ]
  },
  {
   "cell_type": "code",
   "execution_count": 25,
   "metadata": {
    "collapsed": false,
    "tags": []
   },
   "outputs": [
    {
     "output_type": "stream",
     "name": "stdout",
     "text": "[[1. 2.]\n [5. 4.]]\n(2, 2)\n2\n"
    }
   ],
   "source": [
    "print(a)\n",
    "print(a.shape)  # Get shape\n",
    "print(a.shape[0])  # Get size of first dimension"
   ]
  },
  {
   "cell_type": "markdown",
   "metadata": {},
   "source": [
    "#### Accessing elements and slicing\n",
    "\n",
    "For people uncomfortable with the slicing of arrays, please have a look at the 'Indexing and Slicing' section of http://www.python-course.eu/numpy.php"
   ]
  },
  {
   "cell_type": "code",
   "execution_count": 21,
   "metadata": {
    "collapsed": false
   },
   "outputs": [
    {
     "name": "stdout",
     "output_type": "stream",
     "text": [
      "[ 1.  2.]\n",
      "[ 2.  4.]\n",
      "2.0\n"
     ]
    }
   ],
   "source": [
    "print(a[0])  # Get first line (slice for the first dimension)\n",
    "print(a[:, 1])  # Get second column (slice for the second dimension)\n",
    "print(a[0, 1])  # Get first line second column element"
   ]
  },
  {
   "cell_type": "markdown",
   "metadata": {},
   "source": [
    "#### Changing the shape of arrays\n",
    "\n",
    "`ravel` creates a flattened view of an array (1-D representation) whereas `flatten` creates flattened copy of the array.\n",
    "\n",
    "`reshape` allows in-place modification of the shape of the data. `transpose` shuffles the dimensions.\n",
    "\n",
    "`np.newaxis` allows the creation of empty dimensions."
   ]
  },
  {
   "cell_type": "code",
   "execution_count": 27,
   "metadata": {
    "collapsed": true
   },
   "outputs": [],
   "source": [
    "a = np.array([[1.0, 2.0], [5.0, 4.0]])\n",
    "b = np.array([[4, 3], [2, 1]])\n",
    "v = np.array([0.5, 2.0])"
   ]
  },
  {
   "cell_type": "code",
   "execution_count": 30,
   "metadata": {
    "collapsed": false,
    "tags": []
   },
   "outputs": [
    {
     "output_type": "stream",
     "name": "stdout",
     "text": "[[1. 2.]\n [5. 4.]]\n[[1. 5.]\n [2. 4.]]\n\n[1. 2. 5. 4.]\n"
    }
   ],
   "source": [
    "print(a)\n",
    "print(a.T)  # Equivalent : a.tranpose(), np.transpose(a)\n",
    "print()\n",
    "\n",
    "print(a.ravel())"
   ]
  },
  {
   "cell_type": "code",
   "execution_count": 32,
   "metadata": {
    "collapsed": false,
    "tags": []
   },
   "outputs": [
    {
     "output_type": "stream",
     "name": "stdout",
     "text": "(4, 5)\n\n(1, 4, 5)\n\n(5, 4)\n\n(10, 2)\n\n[[ 0.19999554 -0.70117615 -1.62803541  0.27237751 -0.46113814]\n [-0.64575416  1.34736239 -0.05047046  0.17978317  1.54304344]\n [-0.5396785  -0.10747018 -1.61894654 -0.21299531 -0.42276099]\n [-0.75819254 -0.49176838  0.10603506 -0.80814892  0.7615772 ]]\n\n[[ 0.19999554 -0.70117615]\n [-1.62803541  0.27237751]\n [-0.46113814 -0.64575416]\n [ 1.34736239 -0.05047046]\n [ 0.17978317  1.54304344]\n [-0.5396785  -0.10747018]\n [-1.61894654 -0.21299531]\n [-0.42276099 -0.75819254]\n [-0.49176838  0.10603506]\n [-0.80814892  0.7615772 ]]\n\n"
    }
   ],
   "source": [
    "c = np.random.randn(4,5)\n",
    "print(c.shape,end='\\n\\n')\n",
    "print(c[np.newaxis].shape,end='\\n\\n')  # Adding a dimension\n",
    "print(c.T.shape,end='\\n\\n')  \n",
    "print(c.reshape([10,2]).shape,end='\\n\\n')\n",
    "print(c,end='\\n\\n')\n",
    "print(c.reshape([10,2]),end='\\n\\n')"
   ]
  },
  {
   "cell_type": "code",
   "execution_count": 33,
   "metadata": {
    "collapsed": false
   },
   "outputs": [
    {
     "output_type": "execute_result",
     "data": {
      "text/plain": "array([[1.],\n       [2.],\n       [5.],\n       [4.]])"
     },
     "metadata": {},
     "execution_count": 33
    }
   ],
   "source": [
    "a.reshape((-1, 1)) # a[-1] means 'whatever needs to go there'"
   ]
  },
  {
   "cell_type": "markdown",
   "metadata": {},
   "source": [
    "#### Reduction operations\n",
    "\n",
    "Reduction operations (`np.sum`, `np.max`, `np.min`, `np.std`) work on the flattened ndarray by default. You can specify the reduction axis as an argument"
   ]
  },
  {
   "cell_type": "code",
   "execution_count": 34,
   "metadata": {
    "collapsed": false
   },
   "outputs": [
    {
     "output_type": "execute_result",
     "data": {
      "text/plain": "(12.0, array([6., 6.]), array([3., 9.]))"
     },
     "metadata": {},
     "execution_count": 34
    }
   ],
   "source": [
    "np.sum(a), np.sum(a, axis=0), np.sum(a, axis=1) # reduce-operations reduce the whole array if no axis is specified"
   ]
  },
  {
   "cell_type": "code",
   "execution_count": 35,
   "metadata": {
    "collapsed": false
   },
   "outputs": [
    {
     "output_type": "execute_result",
     "data": {
      "text/plain": "array([[ 8.,  5.],\n       [28., 19.]])"
     },
     "metadata": {},
     "execution_count": 35
    }
   ],
   "source": [
    "np.dot(a, b) # matrix multiplication"
   ]
  },
  {
   "cell_type": "code",
   "execution_count": 36,
   "metadata": {
    "collapsed": false
   },
   "outputs": [
    {
     "output_type": "execute_result",
     "data": {
      "text/plain": "True"
     },
     "metadata": {},
     "execution_count": 36
    }
   ],
   "source": [
    "# Other ways of writing matrix multiplication, the '@' operator for matrix multiplication\n",
    "# was introduced in Python 3.5\n",
    "np.allclose(a.dot(b), a @ b)"
   ]
  },
  {
   "cell_type": "code",
   "execution_count": 38,
   "metadata": {
    "collapsed": false
   },
   "outputs": [
    {
     "output_type": "execute_result",
     "data": {
      "text/plain": "(array([-1.,  6.]),\n array([[-0.70710678, -0.37139068],\n        [ 0.70710678, -0.92847669]]))"
     },
     "metadata": {},
     "execution_count": 38
    }
   ],
   "source": [
    "# For other linear algebra operations, use the np.linalg module\n",
    "np.linalg.eig(a)  # Eigen-decomposition"
   ]
  },
  {
   "cell_type": "code",
   "execution_count": 39,
   "metadata": {
    "collapsed": false,
    "tags": []
   },
   "outputs": [
    {
     "output_type": "stream",
     "name": "stdout",
     "text": "[[-0.66666667  0.33333333]\n [ 0.83333333 -0.16666667]]\n"
    },
    {
     "output_type": "execute_result",
     "data": {
      "text/plain": "True"
     },
     "metadata": {},
     "execution_count": 39
    }
   ],
   "source": [
    "print(np.linalg.inv(a))  # Inverse\n",
    "np.allclose(np.linalg.inv(a) @ a, np.identity(a.shape[1]))  # a^-1 * a = Id"
   ]
  },
  {
   "cell_type": "code",
   "execution_count": 40,
   "metadata": {
    "collapsed": false
   },
   "outputs": [
    {
     "output_type": "execute_result",
     "data": {
      "text/plain": "array([0.33333333, 0.08333333])"
     },
     "metadata": {},
     "execution_count": 40
    }
   ],
   "source": [
    "np.linalg.solve(a, v) # solves ax = v"
   ]
  },
  {
   "cell_type": "markdown",
   "metadata": {},
   "source": [
    "#### Grouping operations\n",
    "\n",
    "Grouping operations (`np.stack`, `np.hstack`, `np.vstack`, `np.concatenate`) take an iterable of ndarrays and not ndarrays as separate arguments : np.concatenate([a,b]) and not np.concatenate(a,b)."
   ]
  },
  {
   "cell_type": "code",
   "execution_count": 41,
   "metadata": {
    "collapsed": false
   },
   "outputs": [
    {
     "output_type": "execute_result",
     "data": {
      "text/plain": "array([[1., 2., 4., 3.],\n       [5., 4., 2., 1.]])"
     },
     "metadata": {},
     "execution_count": 41
    }
   ],
   "source": [
    "np.hstack([a, b])"
   ]
  },
  {
   "cell_type": "code",
   "execution_count": 42,
   "metadata": {
    "collapsed": false,
    "scrolled": true
   },
   "outputs": [
    {
     "output_type": "execute_result",
     "data": {
      "text/plain": "array([[1., 2.],\n       [5., 4.],\n       [4., 3.],\n       [2., 1.]])"
     },
     "metadata": {},
     "execution_count": 42
    }
   ],
   "source": [
    "np.vstack([a, b])"
   ]
  },
  {
   "cell_type": "code",
   "execution_count": 43,
   "metadata": {
    "collapsed": false
   },
   "outputs": [
    {
     "output_type": "execute_result",
     "data": {
      "text/plain": "array([[1.5, 4. ],\n       [5.5, 6. ],\n       [4.5, 5. ],\n       [2.5, 3. ]])"
     },
     "metadata": {},
     "execution_count": 43
    }
   ],
   "source": [
    "np.vstack([a, b]) + v # broadcasting"
   ]
  },
  {
   "cell_type": "code",
   "execution_count": 35,
   "metadata": {
    "collapsed": false
   },
   "outputs": [
    {
     "ename": "ValueError",
     "evalue": "operands could not be broadcast together with shapes (2,4) (2,) ",
     "output_type": "error",
     "traceback": [
      "\u001b[0;31m---------------------------------------------------------------------------\u001b[0m",
      "\u001b[0;31mValueError\u001b[0m                                Traceback (most recent call last)",
      "\u001b[0;32m<ipython-input-35-ee6037013b2b>\u001b[0m in \u001b[0;36m<module>\u001b[0;34m()\u001b[0m\n\u001b[0;32m----> 1\u001b[0;31m \u001b[0mnp\u001b[0m\u001b[0;34m.\u001b[0m\u001b[0mhstack\u001b[0m\u001b[0;34m(\u001b[0m\u001b[0;34m[\u001b[0m\u001b[0ma\u001b[0m\u001b[0;34m,\u001b[0m \u001b[0mb\u001b[0m\u001b[0;34m]\u001b[0m\u001b[0;34m)\u001b[0m \u001b[0;34m+\u001b[0m \u001b[0mv\u001b[0m \u001b[0;31m# does not work\u001b[0m\u001b[0;34m\u001b[0m\u001b[0m\n\u001b[0m",
      "\u001b[0;31mValueError\u001b[0m: operands could not be broadcast together with shapes (2,4) (2,) "
     ]
    }
   ],
   "source": [
    "np.hstack([a, b]) + v # does not work"
   ]
  },
  {
   "cell_type": "code",
   "execution_count": 36,
   "metadata": {
    "collapsed": false
   },
   "outputs": [
    {
     "ename": "ValueError",
     "evalue": "operands could not be broadcast together with shapes (2,4) (2,) ",
     "output_type": "error",
     "traceback": [
      "\u001b[0;31m---------------------------------------------------------------------------\u001b[0m",
      "\u001b[0;31mValueError\u001b[0m                                Traceback (most recent call last)",
      "\u001b[0;32m<ipython-input-36-d62836ec8967>\u001b[0m in \u001b[0;36m<module>\u001b[0;34m()\u001b[0m\n\u001b[0;32m----> 1\u001b[0;31m \u001b[0mnp\u001b[0m\u001b[0;34m.\u001b[0m\u001b[0mhstack\u001b[0m\u001b[0;34m(\u001b[0m\u001b[0;34m[\u001b[0m\u001b[0ma\u001b[0m\u001b[0;34m,\u001b[0m \u001b[0mb\u001b[0m\u001b[0;34m]\u001b[0m\u001b[0;34m)\u001b[0m \u001b[0;34m+\u001b[0m \u001b[0mv\u001b[0m\u001b[0;34m.\u001b[0m\u001b[0mT\u001b[0m \u001b[0;31m# transposing a 1-D array achieves nothing\u001b[0m\u001b[0;34m\u001b[0m\u001b[0m\n\u001b[0m",
      "\u001b[0;31mValueError\u001b[0m: operands could not be broadcast together with shapes (2,4) (2,) "
     ]
    }
   ],
   "source": [
    "np.hstack([a, b]) + v.T # transposing a 1-D array achieves nothing"
   ]
  },
  {
   "cell_type": "code",
   "execution_count": 37,
   "metadata": {
    "collapsed": false,
    "scrolled": true
   },
   "outputs": [
    {
     "data": {
      "text/plain": [
       "array([[ 1.5,  2.5,  4.5,  3.5],\n",
       "       [ 7. ,  6. ,  4. ,  3. ]])"
      ]
     },
     "execution_count": 37,
     "metadata": {},
     "output_type": "execute_result"
    }
   ],
   "source": [
    "np.hstack([a, b]) + v.reshape((-1, 1)) # reshaping to convert v from a (2,) vector to a (2,1) matrix"
   ]
  },
  {
   "cell_type": "code",
   "execution_count": 38,
   "metadata": {
    "collapsed": false
   },
   "outputs": [
    {
     "data": {
      "text/plain": [
       "array([[ 1.5,  2.5,  4.5,  3.5],\n",
       "       [ 7. ,  6. ,  4. ,  3. ]])"
      ]
     },
     "execution_count": 38,
     "metadata": {},
     "output_type": "execute_result"
    }
   ],
   "source": [
    "np.hstack([a, b]) + v[:, np.newaxis] # equivalently, we can add an axis"
   ]
  },
  {
   "cell_type": "markdown",
   "metadata": {},
   "source": [
    "## Working on subset of the elements\n",
    "\n",
    "We have two ways in order to apply operations on subparts of arrays (besides slicing).\n",
    "\n",
    "#### Slicing reminders"
   ]
  },
  {
   "cell_type": "code",
   "execution_count": 44,
   "metadata": {
    "collapsed": false,
    "tags": []
   },
   "outputs": [
    {
     "output_type": "stream",
     "name": "stderr",
     "text": "<ipython-input-44-cf394b66f5c0>:1: DeprecationWarning: This function is deprecated. Please call randint(0, 9 + 1) instead\n  r = np.random.random_integers(0, 9, size=(3, 4))\n"
    }
   ],
   "source": [
    "r = np.random.random_integers(0, 9, size=(3, 4))"
   ]
  },
  {
   "cell_type": "code",
   "execution_count": 45,
   "metadata": {
    "collapsed": false
   },
   "outputs": [
    {
     "output_type": "execute_result",
     "data": {
      "text/plain": "array([[5, 3, 9, 0],\n       [3, 3, 3, 8],\n       [0, 5, 4, 2]])"
     },
     "metadata": {},
     "execution_count": 45
    }
   ],
   "source": [
    "r"
   ]
  },
  {
   "cell_type": "code",
   "execution_count": 41,
   "metadata": {
    "collapsed": false
   },
   "outputs": [
    {
     "data": {
      "text/plain": [
       "(array([6, 6, 4, 5]), array([6, 4, 8, 2]))"
      ]
     },
     "execution_count": 41,
     "metadata": {},
     "output_type": "execute_result"
    }
   ],
   "source": [
    "r[0], r[1]"
   ]
  },
  {
   "cell_type": "code",
   "execution_count": 42,
   "metadata": {
    "collapsed": false
   },
   "outputs": [
    {
     "data": {
      "text/plain": [
       "array([[6, 6, 4, 5],\n",
       "       [6, 4, 8, 2]])"
      ]
     },
     "execution_count": 42,
     "metadata": {},
     "output_type": "execute_result"
    }
   ],
   "source": [
    "r[0:2]"
   ]
  },
  {
   "cell_type": "code",
   "execution_count": 43,
   "metadata": {
    "collapsed": false
   },
   "outputs": [
    {
     "data": {
      "text/plain": [
       "8"
      ]
     },
     "execution_count": 43,
     "metadata": {},
     "output_type": "execute_result"
    }
   ],
   "source": [
    "r[1][2] # regular python"
   ]
  },
  {
   "cell_type": "code",
   "execution_count": 44,
   "metadata": {
    "collapsed": false
   },
   "outputs": [
    {
     "data": {
      "text/plain": [
       "8"
      ]
     },
     "execution_count": 44,
     "metadata": {},
     "output_type": "execute_result"
    }
   ],
   "source": [
    "r[1, 2] # numpy"
   ]
  },
  {
   "cell_type": "code",
   "execution_count": 45,
   "metadata": {
    "collapsed": false
   },
   "outputs": [
    {
     "data": {
      "text/plain": [
       "array([[6, 4],\n",
       "       [4, 8],\n",
       "       [0, 4]])"
      ]
     },
     "execution_count": 45,
     "metadata": {},
     "output_type": "execute_result"
    }
   ],
   "source": [
    "r[:, 1:3]"
   ]
  },
  {
   "cell_type": "markdown",
   "metadata": {},
   "source": [
    "#### Binary masks\n",
    "\n",
    "Using logical operations on arrays give a binary mask. Using a binary mask as indexing acts as a filter and outputs just the very elements where the value is True. This gives a memoryview of the array that can get modified."
   ]
  },
  {
   "cell_type": "code",
   "execution_count": 46,
   "metadata": {
    "collapsed": false
   },
   "outputs": [
    {
     "data": {
      "text/plain": [
       "array([[ True,  True, False, False],\n",
       "       [ True, False,  True, False],\n",
       "       [ True, False, False,  True]], dtype=bool)"
      ]
     },
     "execution_count": 46,
     "metadata": {},
     "output_type": "execute_result"
    }
   ],
   "source": [
    "r > 5  # Binary element-wise result"
   ]
  },
  {
   "cell_type": "code",
   "execution_count": 47,
   "metadata": {
    "collapsed": false
   },
   "outputs": [
    {
     "data": {
      "text/plain": [
       "array([6, 6, 6, 8, 7, 9])"
      ]
     },
     "execution_count": 47,
     "metadata": {},
     "output_type": "execute_result"
    }
   ],
   "source": [
    "r[r > 5]  # Use the binary mask as filter"
   ]
  },
  {
   "cell_type": "code",
   "execution_count": 48,
   "metadata": {
    "collapsed": true
   },
   "outputs": [],
   "source": [
    "r[r > 5] = 999  # Modify the corresponding values with a constant"
   ]
  },
  {
   "cell_type": "code",
   "execution_count": 49,
   "metadata": {
    "collapsed": false
   },
   "outputs": [
    {
     "data": {
      "text/plain": [
       "array([[999, 999,   4,   5],\n",
       "       [999,   4, 999,   2],\n",
       "       [999,   0,   4, 999]])"
      ]
     },
     "execution_count": 49,
     "metadata": {},
     "output_type": "execute_result"
    }
   ],
   "source": [
    "r"
   ]
  },
  {
   "cell_type": "markdown",
   "metadata": {
    "collapsed": true
   },
   "source": [
    "#### Working with indices\n",
    "\n",
    "The second way to work on subpart of arrays are through indices. Usually you'd use one array per dimension with matching indices.\n",
    "\n",
    "**WARNING** : indices are usually slower than binary masks because it is harder to be parallelized by the underlying BLAS library."
   ]
  },
  {
   "cell_type": "code",
   "execution_count": 52,
   "metadata": {
    "collapsed": false
   },
   "outputs": [
    {
     "data": {
      "text/plain": [
       "(array([0, 0, 1, 1, 2, 2]), array([0, 1, 0, 2, 0, 3]))"
      ]
     },
     "execution_count": 52,
     "metadata": {},
     "output_type": "execute_result"
    }
   ],
   "source": [
    "# Get the indices where the condition is true, gives a tuple whose length\n",
    "# is the number of dimensions of the input array\n",
    "np.where(r == 999)"
   ]
  },
  {
   "cell_type": "code",
   "execution_count": 57,
   "metadata": {
    "collapsed": false
   },
   "outputs": [
    {
     "name": "stdout",
     "output_type": "stream",
     "text": [
      "(array([0, 1, 2, 3, 4]),)\n"
     ]
    },
    {
     "data": {
      "text/plain": [
       "array([0, 1, 2, 3, 4])"
      ]
     },
     "execution_count": 57,
     "metadata": {},
     "output_type": "execute_result"
    }
   ],
   "source": [
    "print(np.where(np.arange(10) < 5))  # Is a 1-tuple\n",
    "np.where(np.arange(10) < 5)[0]  # Accessing the first element gives the indices array"
   ]
  },
  {
   "cell_type": "code",
   "execution_count": 59,
   "metadata": {
    "collapsed": false
   },
   "outputs": [
    {
     "data": {
      "text/plain": [
       "array([[ -10,  -10, 1004, 1005],\n",
       "       [ -10, 1004,  -10, 1002],\n",
       "       [ -10, 1000, 1004,  -10]])"
      ]
     },
     "execution_count": 59,
     "metadata": {},
     "output_type": "execute_result"
    }
   ],
   "source": [
    "np.where(r == 999, -10, r+1000)  # Ternary condition, if True take element from first array, otherwise from second"
   ]
  },
  {
   "cell_type": "code",
   "execution_count": 62,
   "metadata": {
    "collapsed": false
   },
   "outputs": [
    {
     "data": {
      "text/plain": [
       "array([999,   4])"
      ]
     },
     "execution_count": 62,
     "metadata": {},
     "output_type": "execute_result"
    }
   ],
   "source": [
    "r[(np.array([1,2]), np.array([2,2]))]  # Gets the view corresponding to the indices. NB : iterable of arrays as indexing"
   ]
  },
  {
   "cell_type": "markdown",
   "metadata": {},
   "source": [
    "# Working with arrays, examples\n",
    "\n",
    "Thanks to all these tools, you should be able to avoid writing almost any for-loops which are extremely costly in Python (even more than in Matlab, because good JIT engines are yet to come). In case you **really** need for-loops for array computation (usually not needed but it happens) have a look at http://numba.pydata.org/ (_For advanced users_)\n",
    "\n",
    "#### Counting the number of positive elements that satisfy a condition"
   ]
  },
  {
   "cell_type": "code",
   "execution_count": 46,
   "metadata": {
    "collapsed": false
   },
   "outputs": [],
   "source": [
    "numbers = np.random.randn(1000, 1000)"
   ]
  },
  {
   "cell_type": "code",
   "execution_count": 49,
   "metadata": {
    "collapsed": false,
    "tags": []
   },
   "outputs": [
    {
     "output_type": "stream",
     "name": "stdout",
     "text": "277 ms ± 5.73 ms per loop (mean ± std. dev. of 7 runs, 1 loop each)\n"
    }
   ],
   "source": [
    "%%timeit  # Naive version\n",
    "my_sum = 0\n",
    "for n in numbers.ravel():\n",
    "    if n>0:\n",
    "        my_sum += 1"
   ]
  },
  {
   "cell_type": "code",
   "execution_count": 50,
   "metadata": {
    "collapsed": false,
    "tags": []
   },
   "outputs": [
    {
     "output_type": "stream",
     "name": "stdout",
     "text": "1.65 ms ± 12.3 µs per loop (mean ± std. dev. of 7 runs, 1000 loops each)\n"
    }
   ],
   "source": [
    "%timeit np.sum(numbers > 0)"
   ]
  },
  {
   "cell_type": "markdown",
   "metadata": {},
   "source": [
    "#### Compute polynomial for a lot of values"
   ]
  },
  {
   "cell_type": "code",
   "execution_count": 52,
   "metadata": {
    "collapsed": true
   },
   "outputs": [],
   "source": [
    "X = np.random.randn(10000)"
   ]
  },
  {
   "cell_type": "code",
   "execution_count": 53,
   "metadata": {
    "collapsed": false,
    "tags": []
   },
   "outputs": [
    {
     "output_type": "stream",
     "name": "stdout",
     "text": "16.4 ms ± 216 µs per loop (mean ± std. dev. of 7 runs, 100 loops each)\n"
    }
   ],
   "source": [
    "%%timeit  # Naive version\n",
    "my_result = np.zeros(len(X))\n",
    "for i, x in enumerate(X.ravel()):\n",
    "    my_result[i] = 1 + x + x**2 + x**3 + x**4"
   ]
  },
  {
   "cell_type": "code",
   "execution_count": 54,
   "metadata": {
    "collapsed": false,
    "tags": []
   },
   "outputs": [
    {
     "output_type": "stream",
     "name": "stdout",
     "text": "1.43 ms ± 26 µs per loop (mean ± std. dev. of 7 runs, 1000 loops each)\n"
    }
   ],
   "source": [
    "%timeit 1 + X + X**2 + X**3 + X**4"
   ]
  },
  {
   "cell_type": "markdown",
   "metadata": {},
   "source": [
    "## SciPy\n",
    "\n",
    "SciPy is a collection of libraries more specialized than Numpy. It is the equivalent of toolboxes in Matlab.\n",
    "\n",
    "Have a look at their collection: http://docs.scipy.org/doc/scipy/reference/\n",
    "\n",
    "Many traditionnal functions are coded there."
   ]
  },
  {
   "cell_type": "code",
   "execution_count": 55,
   "metadata": {
    "collapsed": true
   },
   "outputs": [],
   "source": [
    "X = np.random.randn(1000)"
   ]
  },
  {
   "cell_type": "code",
   "execution_count": 57,
   "metadata": {
    "collapsed": false
   },
   "outputs": [
    {
     "output_type": "execute_result",
     "data": {
      "text/plain": "[<matplotlib.lines.Line2D at 0x7f6285a39850>]"
     },
     "metadata": {},
     "execution_count": 57
    },
    {
     "output_type": "display_data",
     "data": {
      "text/plain": "<Figure size 432x288 with 1 Axes>",
      "image/svg+xml": "<?xml version=\"1.0\" encoding=\"utf-8\" standalone=\"no\"?>\n<!DOCTYPE svg PUBLIC \"-//W3C//DTD SVG 1.1//EN\"\n  \"http://www.w3.org/Graphics/SVG/1.1/DTD/svg11.dtd\">\n<!-- Created with matplotlib (https://matplotlib.org/) -->\n<svg height=\"248.518125pt\" version=\"1.1\" viewBox=\"0 0 377.304687 248.518125\" width=\"377.304687pt\" xmlns=\"http://www.w3.org/2000/svg\" xmlns:xlink=\"http://www.w3.org/1999/xlink\">\n <metadata>\n  <rdf:RDF xmlns:cc=\"http://creativecommons.org/ns#\" xmlns:dc=\"http://purl.org/dc/elements/1.1/\" xmlns:rdf=\"http://www.w3.org/1999/02/22-rdf-syntax-ns#\">\n   <cc:Work>\n    <dc:type rdf:resource=\"http://purl.org/dc/dcmitype/StillImage\"/>\n    <dc:date>2020-09-17T14:39:27.402420</dc:date>\n    <dc:format>image/svg+xml</dc:format>\n    <dc:creator>\n     <cc:Agent>\n      <dc:title>Matplotlib v3.3.1, https://matplotlib.org/</dc:title>\n     </cc:Agent>\n    </dc:creator>\n   </cc:Work>\n  </rdf:RDF>\n </metadata>\n <defs>\n  <style type=\"text/css\">*{stroke-linecap:butt;stroke-linejoin:round;}</style>\n </defs>\n <g id=\"figure_1\">\n  <g id=\"patch_1\">\n   <path d=\"M 0 248.518125 \nL 377.304687 248.518125 \nL 377.304687 0 \nL 0 0 \nz\n\" style=\"fill:none;\"/>\n  </g>\n  <g id=\"axes_1\">\n   <g id=\"patch_2\">\n    <path d=\"M 35.304688 224.64 \nL 370.104688 224.64 \nL 370.104688 7.2 \nL 35.304688 7.2 \nz\n\" style=\"fill:#ffffff;\"/>\n   </g>\n   <g id=\"matplotlib.axis_1\">\n    <g id=\"xtick_1\">\n     <g id=\"line2d_1\">\n      <defs>\n       <path d=\"M 0 0 \nL 0 3.5 \n\" id=\"m67be356030\" style=\"stroke:#000000;stroke-width:0.8;\"/>\n      </defs>\n      <g>\n       <use style=\"stroke:#000000;stroke-width:0.8;\" x=\"50.522869\" xlink:href=\"#m67be356030\" y=\"224.64\"/>\n      </g>\n     </g>\n     <g id=\"text_1\">\n      <!-- 0 -->\n      <g transform=\"translate(47.341619 239.238437)scale(0.1 -0.1)\">\n       <defs>\n        <path d=\"M 31.78125 66.40625 \nQ 24.171875 66.40625 20.328125 58.90625 \nQ 16.5 51.421875 16.5 36.375 \nQ 16.5 21.390625 20.328125 13.890625 \nQ 24.171875 6.390625 31.78125 6.390625 \nQ 39.453125 6.390625 43.28125 13.890625 \nQ 47.125 21.390625 47.125 36.375 \nQ 47.125 51.421875 43.28125 58.90625 \nQ 39.453125 66.40625 31.78125 66.40625 \nz\nM 31.78125 74.21875 \nQ 44.046875 74.21875 50.515625 64.515625 \nQ 56.984375 54.828125 56.984375 36.375 \nQ 56.984375 17.96875 50.515625 8.265625 \nQ 44.046875 -1.421875 31.78125 -1.421875 \nQ 19.53125 -1.421875 13.0625 8.265625 \nQ 6.59375 17.96875 6.59375 36.375 \nQ 6.59375 54.828125 13.0625 64.515625 \nQ 19.53125 74.21875 31.78125 74.21875 \nz\n\" id=\"DejaVuSans-48\"/>\n       </defs>\n       <use xlink:href=\"#DejaVuSans-48\"/>\n      </g>\n     </g>\n    </g>\n    <g id=\"xtick_2\">\n     <g id=\"line2d_2\">\n      <g>\n       <use style=\"stroke:#000000;stroke-width:0.8;\" x=\"111.45653\" xlink:href=\"#m67be356030\" y=\"224.64\"/>\n      </g>\n     </g>\n     <g id=\"text_2\">\n      <!-- 200 -->\n      <g transform=\"translate(101.91278 239.238437)scale(0.1 -0.1)\">\n       <defs>\n        <path d=\"M 19.1875 8.296875 \nL 53.609375 8.296875 \nL 53.609375 0 \nL 7.328125 0 \nL 7.328125 8.296875 \nQ 12.9375 14.109375 22.625 23.890625 \nQ 32.328125 33.6875 34.8125 36.53125 \nQ 39.546875 41.84375 41.421875 45.53125 \nQ 43.3125 49.21875 43.3125 52.78125 \nQ 43.3125 58.59375 39.234375 62.25 \nQ 35.15625 65.921875 28.609375 65.921875 \nQ 23.96875 65.921875 18.8125 64.3125 \nQ 13.671875 62.703125 7.8125 59.421875 \nL 7.8125 69.390625 \nQ 13.765625 71.78125 18.9375 73 \nQ 24.125 74.21875 28.421875 74.21875 \nQ 39.75 74.21875 46.484375 68.546875 \nQ 53.21875 62.890625 53.21875 53.421875 \nQ 53.21875 48.921875 51.53125 44.890625 \nQ 49.859375 40.875 45.40625 35.40625 \nQ 44.1875 33.984375 37.640625 27.21875 \nQ 31.109375 20.453125 19.1875 8.296875 \nz\n\" id=\"DejaVuSans-50\"/>\n       </defs>\n       <use xlink:href=\"#DejaVuSans-50\"/>\n       <use x=\"63.623047\" xlink:href=\"#DejaVuSans-48\"/>\n       <use x=\"127.246094\" xlink:href=\"#DejaVuSans-48\"/>\n      </g>\n     </g>\n    </g>\n    <g id=\"xtick_3\">\n     <g id=\"line2d_3\">\n      <g>\n       <use style=\"stroke:#000000;stroke-width:0.8;\" x=\"172.390191\" xlink:href=\"#m67be356030\" y=\"224.64\"/>\n      </g>\n     </g>\n     <g id=\"text_3\">\n      <!-- 400 -->\n      <g transform=\"translate(162.846441 239.238437)scale(0.1 -0.1)\">\n       <defs>\n        <path d=\"M 37.796875 64.3125 \nL 12.890625 25.390625 \nL 37.796875 25.390625 \nz\nM 35.203125 72.90625 \nL 47.609375 72.90625 \nL 47.609375 25.390625 \nL 58.015625 25.390625 \nL 58.015625 17.1875 \nL 47.609375 17.1875 \nL 47.609375 0 \nL 37.796875 0 \nL 37.796875 17.1875 \nL 4.890625 17.1875 \nL 4.890625 26.703125 \nz\n\" id=\"DejaVuSans-52\"/>\n       </defs>\n       <use xlink:href=\"#DejaVuSans-52\"/>\n       <use x=\"63.623047\" xlink:href=\"#DejaVuSans-48\"/>\n       <use x=\"127.246094\" xlink:href=\"#DejaVuSans-48\"/>\n      </g>\n     </g>\n    </g>\n    <g id=\"xtick_4\">\n     <g id=\"line2d_4\">\n      <g>\n       <use style=\"stroke:#000000;stroke-width:0.8;\" x=\"233.323852\" xlink:href=\"#m67be356030\" y=\"224.64\"/>\n      </g>\n     </g>\n     <g id=\"text_4\">\n      <!-- 600 -->\n      <g transform=\"translate(223.780102 239.238437)scale(0.1 -0.1)\">\n       <defs>\n        <path d=\"M 33.015625 40.375 \nQ 26.375 40.375 22.484375 35.828125 \nQ 18.609375 31.296875 18.609375 23.390625 \nQ 18.609375 15.53125 22.484375 10.953125 \nQ 26.375 6.390625 33.015625 6.390625 \nQ 39.65625 6.390625 43.53125 10.953125 \nQ 47.40625 15.53125 47.40625 23.390625 \nQ 47.40625 31.296875 43.53125 35.828125 \nQ 39.65625 40.375 33.015625 40.375 \nz\nM 52.59375 71.296875 \nL 52.59375 62.3125 \nQ 48.875 64.0625 45.09375 64.984375 \nQ 41.3125 65.921875 37.59375 65.921875 \nQ 27.828125 65.921875 22.671875 59.328125 \nQ 17.53125 52.734375 16.796875 39.40625 \nQ 19.671875 43.65625 24.015625 45.921875 \nQ 28.375 48.1875 33.59375 48.1875 \nQ 44.578125 48.1875 50.953125 41.515625 \nQ 57.328125 34.859375 57.328125 23.390625 \nQ 57.328125 12.15625 50.6875 5.359375 \nQ 44.046875 -1.421875 33.015625 -1.421875 \nQ 20.359375 -1.421875 13.671875 8.265625 \nQ 6.984375 17.96875 6.984375 36.375 \nQ 6.984375 53.65625 15.1875 63.9375 \nQ 23.390625 74.21875 37.203125 74.21875 \nQ 40.921875 74.21875 44.703125 73.484375 \nQ 48.484375 72.75 52.59375 71.296875 \nz\n\" id=\"DejaVuSans-54\"/>\n       </defs>\n       <use xlink:href=\"#DejaVuSans-54\"/>\n       <use x=\"63.623047\" xlink:href=\"#DejaVuSans-48\"/>\n       <use x=\"127.246094\" xlink:href=\"#DejaVuSans-48\"/>\n      </g>\n     </g>\n    </g>\n    <g id=\"xtick_5\">\n     <g id=\"line2d_5\">\n      <g>\n       <use style=\"stroke:#000000;stroke-width:0.8;\" x=\"294.257513\" xlink:href=\"#m67be356030\" y=\"224.64\"/>\n      </g>\n     </g>\n     <g id=\"text_5\">\n      <!-- 800 -->\n      <g transform=\"translate(284.713763 239.238437)scale(0.1 -0.1)\">\n       <defs>\n        <path d=\"M 31.78125 34.625 \nQ 24.75 34.625 20.71875 30.859375 \nQ 16.703125 27.09375 16.703125 20.515625 \nQ 16.703125 13.921875 20.71875 10.15625 \nQ 24.75 6.390625 31.78125 6.390625 \nQ 38.8125 6.390625 42.859375 10.171875 \nQ 46.921875 13.96875 46.921875 20.515625 \nQ 46.921875 27.09375 42.890625 30.859375 \nQ 38.875 34.625 31.78125 34.625 \nz\nM 21.921875 38.8125 \nQ 15.578125 40.375 12.03125 44.71875 \nQ 8.5 49.078125 8.5 55.328125 \nQ 8.5 64.0625 14.71875 69.140625 \nQ 20.953125 74.21875 31.78125 74.21875 \nQ 42.671875 74.21875 48.875 69.140625 \nQ 55.078125 64.0625 55.078125 55.328125 \nQ 55.078125 49.078125 51.53125 44.71875 \nQ 48 40.375 41.703125 38.8125 \nQ 48.828125 37.15625 52.796875 32.3125 \nQ 56.78125 27.484375 56.78125 20.515625 \nQ 56.78125 9.90625 50.3125 4.234375 \nQ 43.84375 -1.421875 31.78125 -1.421875 \nQ 19.734375 -1.421875 13.25 4.234375 \nQ 6.78125 9.90625 6.78125 20.515625 \nQ 6.78125 27.484375 10.78125 32.3125 \nQ 14.796875 37.15625 21.921875 38.8125 \nz\nM 18.3125 54.390625 \nQ 18.3125 48.734375 21.84375 45.5625 \nQ 25.390625 42.390625 31.78125 42.390625 \nQ 38.140625 42.390625 41.71875 45.5625 \nQ 45.3125 48.734375 45.3125 54.390625 \nQ 45.3125 60.0625 41.71875 63.234375 \nQ 38.140625 66.40625 31.78125 66.40625 \nQ 25.390625 66.40625 21.84375 63.234375 \nQ 18.3125 60.0625 18.3125 54.390625 \nz\n\" id=\"DejaVuSans-56\"/>\n       </defs>\n       <use xlink:href=\"#DejaVuSans-56\"/>\n       <use x=\"63.623047\" xlink:href=\"#DejaVuSans-48\"/>\n       <use x=\"127.246094\" xlink:href=\"#DejaVuSans-48\"/>\n      </g>\n     </g>\n    </g>\n    <g id=\"xtick_6\">\n     <g id=\"line2d_6\">\n      <g>\n       <use style=\"stroke:#000000;stroke-width:0.8;\" x=\"355.191174\" xlink:href=\"#m67be356030\" y=\"224.64\"/>\n      </g>\n     </g>\n     <g id=\"text_6\">\n      <!-- 1000 -->\n      <g transform=\"translate(342.466174 239.238437)scale(0.1 -0.1)\">\n       <defs>\n        <path d=\"M 12.40625 8.296875 \nL 28.515625 8.296875 \nL 28.515625 63.921875 \nL 10.984375 60.40625 \nL 10.984375 69.390625 \nL 28.421875 72.90625 \nL 38.28125 72.90625 \nL 38.28125 8.296875 \nL 54.390625 8.296875 \nL 54.390625 0 \nL 12.40625 0 \nz\n\" id=\"DejaVuSans-49\"/>\n       </defs>\n       <use xlink:href=\"#DejaVuSans-49\"/>\n       <use x=\"63.623047\" xlink:href=\"#DejaVuSans-48\"/>\n       <use x=\"127.246094\" xlink:href=\"#DejaVuSans-48\"/>\n       <use x=\"190.869141\" xlink:href=\"#DejaVuSans-48\"/>\n      </g>\n     </g>\n    </g>\n   </g>\n   <g id=\"matplotlib.axis_2\">\n    <g id=\"ytick_1\">\n     <g id=\"line2d_7\">\n      <defs>\n       <path d=\"M 0 0 \nL -3.5 0 \n\" id=\"m81978ce9e0\" style=\"stroke:#000000;stroke-width:0.8;\"/>\n      </defs>\n      <g>\n       <use style=\"stroke:#000000;stroke-width:0.8;\" x=\"35.304688\" xlink:href=\"#m81978ce9e0\" y=\"218.954897\"/>\n      </g>\n     </g>\n     <g id=\"text_7\">\n      <!-- −80 -->\n      <g transform=\"translate(7.2 222.754116)scale(0.1 -0.1)\">\n       <defs>\n        <path d=\"M 10.59375 35.5 \nL 73.1875 35.5 \nL 73.1875 27.203125 \nL 10.59375 27.203125 \nz\n\" id=\"DejaVuSans-8722\"/>\n       </defs>\n       <use xlink:href=\"#DejaVuSans-8722\"/>\n       <use x=\"83.789062\" xlink:href=\"#DejaVuSans-56\"/>\n       <use x=\"147.412109\" xlink:href=\"#DejaVuSans-48\"/>\n      </g>\n     </g>\n    </g>\n    <g id=\"ytick_2\">\n     <g id=\"line2d_8\">\n      <g>\n       <use style=\"stroke:#000000;stroke-width:0.8;\" x=\"35.304688\" xlink:href=\"#m81978ce9e0\" y=\"189.866368\"/>\n      </g>\n     </g>\n     <g id=\"text_8\">\n      <!-- −60 -->\n      <g transform=\"translate(7.2 193.665587)scale(0.1 -0.1)\">\n       <use xlink:href=\"#DejaVuSans-8722\"/>\n       <use x=\"83.789062\" xlink:href=\"#DejaVuSans-54\"/>\n       <use x=\"147.412109\" xlink:href=\"#DejaVuSans-48\"/>\n      </g>\n     </g>\n    </g>\n    <g id=\"ytick_3\">\n     <g id=\"line2d_9\">\n      <g>\n       <use style=\"stroke:#000000;stroke-width:0.8;\" x=\"35.304688\" xlink:href=\"#m81978ce9e0\" y=\"160.777838\"/>\n      </g>\n     </g>\n     <g id=\"text_9\">\n      <!-- −40 -->\n      <g transform=\"translate(7.2 164.577057)scale(0.1 -0.1)\">\n       <use xlink:href=\"#DejaVuSans-8722\"/>\n       <use x=\"83.789062\" xlink:href=\"#DejaVuSans-52\"/>\n       <use x=\"147.412109\" xlink:href=\"#DejaVuSans-48\"/>\n      </g>\n     </g>\n    </g>\n    <g id=\"ytick_4\">\n     <g id=\"line2d_10\">\n      <g>\n       <use style=\"stroke:#000000;stroke-width:0.8;\" x=\"35.304688\" xlink:href=\"#m81978ce9e0\" y=\"131.689309\"/>\n      </g>\n     </g>\n     <g id=\"text_10\">\n      <!-- −20 -->\n      <g transform=\"translate(7.2 135.488528)scale(0.1 -0.1)\">\n       <use xlink:href=\"#DejaVuSans-8722\"/>\n       <use x=\"83.789062\" xlink:href=\"#DejaVuSans-50\"/>\n       <use x=\"147.412109\" xlink:href=\"#DejaVuSans-48\"/>\n      </g>\n     </g>\n    </g>\n    <g id=\"ytick_5\">\n     <g id=\"line2d_11\">\n      <g>\n       <use style=\"stroke:#000000;stroke-width:0.8;\" x=\"35.304688\" xlink:href=\"#m81978ce9e0\" y=\"102.60078\"/>\n      </g>\n     </g>\n     <g id=\"text_11\">\n      <!-- 0 -->\n      <g transform=\"translate(21.942188 106.399998)scale(0.1 -0.1)\">\n       <use xlink:href=\"#DejaVuSans-48\"/>\n      </g>\n     </g>\n    </g>\n    <g id=\"ytick_6\">\n     <g id=\"line2d_12\">\n      <g>\n       <use style=\"stroke:#000000;stroke-width:0.8;\" x=\"35.304688\" xlink:href=\"#m81978ce9e0\" y=\"73.51225\"/>\n      </g>\n     </g>\n     <g id=\"text_12\">\n      <!-- 20 -->\n      <g transform=\"translate(15.579688 77.311469)scale(0.1 -0.1)\">\n       <use xlink:href=\"#DejaVuSans-50\"/>\n       <use x=\"63.623047\" xlink:href=\"#DejaVuSans-48\"/>\n      </g>\n     </g>\n    </g>\n    <g id=\"ytick_7\">\n     <g id=\"line2d_13\">\n      <g>\n       <use style=\"stroke:#000000;stroke-width:0.8;\" x=\"35.304688\" xlink:href=\"#m81978ce9e0\" y=\"44.423721\"/>\n      </g>\n     </g>\n     <g id=\"text_13\">\n      <!-- 40 -->\n      <g transform=\"translate(15.579688 48.22294)scale(0.1 -0.1)\">\n       <use xlink:href=\"#DejaVuSans-52\"/>\n       <use x=\"63.623047\" xlink:href=\"#DejaVuSans-48\"/>\n      </g>\n     </g>\n    </g>\n    <g id=\"ytick_8\">\n     <g id=\"line2d_14\">\n      <g>\n       <use style=\"stroke:#000000;stroke-width:0.8;\" x=\"35.304688\" xlink:href=\"#m81978ce9e0\" y=\"15.335191\"/>\n      </g>\n     </g>\n     <g id=\"text_14\">\n      <!-- 60 -->\n      <g transform=\"translate(15.579688 19.13441)scale(0.1 -0.1)\">\n       <use xlink:href=\"#DejaVuSans-54\"/>\n       <use x=\"63.623047\" xlink:href=\"#DejaVuSans-48\"/>\n      </g>\n     </g>\n    </g>\n   </g>\n   <g id=\"line2d_15\">\n    <path clip-path=\"url(#p4cb4e046d9)\" d=\"M 50.522869 93.220412 \nL 51.132206 66.931303 \nL 51.436874 68.279422 \nL 51.741543 108.110901 \nL 52.046211 106.301414 \nL 52.350879 61.231811 \nL 52.655547 131.681366 \nL 52.960216 169.096619 \nL 53.569552 66.640459 \nL 53.874221 134.568735 \nL 54.178889 127.410496 \nL 54.483557 146.09948 \nL 54.788226 135.182704 \nL 55.092894 135.788733 \nL 55.397562 94.599182 \nL 55.70223 88.127298 \nL 56.006899 69.825362 \nL 56.311567 147.410721 \nL 56.616235 114.837978 \nL 56.920904 103.976738 \nL 57.225572 143.183961 \nL 57.834909 56.853504 \nL 58.139577 69.817937 \nL 58.444245 77.171116 \nL 58.748914 111.219974 \nL 59.053582 123.444722 \nL 59.35825 116.930864 \nL 59.662918 73.543535 \nL 59.967587 109.010086 \nL 60.272255 73.751584 \nL 60.576923 124.851079 \nL 60.881592 71.330788 \nL 61.18626 81.787293 \nL 61.490928 86.708491 \nL 61.795597 96.14002 \nL 62.100265 158.38771 \nL 62.404933 92.825138 \nL 62.709602 107.784796 \nL 63.01427 100.163764 \nL 63.318938 78.089605 \nL 63.623606 37.941777 \nL 63.928275 68.934351 \nL 64.232943 74.509309 \nL 64.537611 95.201812 \nL 64.84228 64.299044 \nL 65.146948 153.090636 \nL 65.451616 121.748075 \nL 65.756285 69.678243 \nL 66.060953 54.829968 \nL 66.365621 104.272581 \nL 66.670289 59.219531 \nL 66.974958 99.133549 \nL 67.279626 36.786932 \nL 67.584294 59.736917 \nL 67.888963 138.329812 \nL 68.193631 102.597173 \nL 68.498299 112.141295 \nL 68.802968 102.224789 \nL 69.107636 106.121634 \nL 69.412304 129.043668 \nL 69.716973 109.265179 \nL 70.021641 119.827857 \nL 70.326309 114.125814 \nL 70.630977 60.348825 \nL 70.935646 80.650185 \nL 71.240314 58.125135 \nL 71.544982 121.037836 \nL 71.849651 143.269805 \nL 72.154319 109.955296 \nL 72.458987 60.040631 \nL 72.763656 130.084285 \nL 73.068324 133.929783 \nL 73.372992 57.513803 \nL 73.67766 124.761899 \nL 74.286997 85.848192 \nL 74.591665 87.213593 \nL 74.896334 162.090792 \nL 75.50567 104.746717 \nL 75.810339 101.362232 \nL 76.115007 128.299695 \nL 76.419675 84.968968 \nL 76.724344 143.706366 \nL 77.029012 111.498253 \nL 77.33368 127.620328 \nL 77.638348 89.269659 \nL 77.943017 140.252326 \nL 78.247685 110.183927 \nL 78.552353 129.168978 \nL 78.857022 89.937523 \nL 79.16169 120.900224 \nL 79.466358 97.785891 \nL 79.771027 60.701119 \nL 80.075695 99.856306 \nL 80.380363 107.22873 \nL 80.685031 102.362019 \nL 80.9897 110.782745 \nL 81.294368 97.269047 \nL 81.599036 89.335809 \nL 81.903705 125.581953 \nL 82.208373 118.171922 \nL 82.513041 58.27274 \nL 82.81771 119.235859 \nL 83.122378 144.821008 \nL 83.427046 54.592748 \nL 83.731715 74.280561 \nL 84.036383 65.7936 \nL 84.341051 67.655231 \nL 84.645719 101.052123 \nL 84.950388 61.735634 \nL 85.255056 98.816132 \nL 85.559724 112.303193 \nL 85.864393 102.737628 \nL 86.169061 103.750516 \nL 86.473729 101.947294 \nL 86.778398 53.202772 \nL 87.083066 74.359528 \nL 87.387734 55.058914 \nL 87.692402 109.555978 \nL 87.997071 109.258045 \nL 88.301739 111.289512 \nL 88.606407 136.846551 \nL 88.911076 52.750858 \nL 89.215744 100.96382 \nL 89.520412 105.968962 \nL 89.825081 97.069111 \nL 90.129749 114.66253 \nL 90.434417 50.268031 \nL 90.739086 80.985649 \nL 91.043754 90.600788 \nL 91.348422 92.626892 \nL 91.65309 136.348055 \nL 91.957759 118.928032 \nL 92.262427 136.919629 \nL 92.871764 103.826454 \nL 93.176432 95.857233 \nL 93.4811 142.340686 \nL 94.090437 36.084673 \nL 94.395105 84.933166 \nL 94.699773 114.179654 \nL 95.004442 50.230486 \nL 95.30911 129.718912 \nL 95.613778 76.978551 \nL 95.918447 120.140555 \nL 96.223115 135.190123 \nL 96.832452 111.306988 \nL 97.13712 84.359789 \nL 97.441788 78.981465 \nL 97.746457 127.695239 \nL 98.051125 72.569911 \nL 98.355793 59.998351 \nL 98.660461 128.465131 \nL 98.96513 91.004798 \nL 99.269798 161.533395 \nL 99.574466 87.645555 \nL 99.879135 66.785992 \nL 100.183803 82.673204 \nL 100.488471 107.743542 \nL 100.79314 85.630958 \nL 101.097808 76.126275 \nL 101.402476 151.938464 \nL 102.011813 70.699919 \nL 102.316481 134.132403 \nL 102.621149 93.237535 \nL 102.925818 119.194554 \nL 103.230486 83.625557 \nL 103.535154 130.257486 \nL 103.839823 81.785292 \nL 104.144491 136.231828 \nL 104.449159 87.2588 \nL 104.753828 84.60081 \nL 105.058496 119.228067 \nL 105.363164 98.211855 \nL 105.667832 162.032135 \nL 105.972501 130.966851 \nL 106.581837 95.745563 \nL 106.886506 95.405822 \nL 107.191174 131.865166 \nL 107.800511 46.434045 \nL 108.105179 65.191863 \nL 108.409847 106.975532 \nL 109.019184 89.667812 \nL 109.323852 89.734969 \nL 109.62852 110.135394 \nL 109.933189 141.964026 \nL 110.237857 66.166797 \nL 110.542525 127.51362 \nL 110.847194 135.937088 \nL 111.151862 86.668667 \nL 111.45653 114.288453 \nL 111.761199 114.805911 \nL 112.065867 127.432504 \nL 112.370535 65.713785 \nL 112.979872 121.166107 \nL 113.28454 54.078831 \nL 113.589208 139.572743 \nL 113.893877 134.608297 \nL 114.198545 71.14366 \nL 114.503213 214.756364 \nL 114.807882 83.727443 \nL 115.11255 162.999742 \nL 115.417218 99.124865 \nL 115.721887 150.259688 \nL 116.026555 123.053652 \nL 116.331223 144.489933 \nL 116.635891 129.087267 \nL 116.94056 89.981909 \nL 117.245228 76.499986 \nL 117.549896 121.905731 \nL 117.854565 52.30775 \nL 118.159233 63.151672 \nL 118.463901 138.711509 \nL 118.76857 85.336283 \nL 119.073238 115.668963 \nL 119.377906 87.174802 \nL 119.682574 80.379163 \nL 119.987243 116.613929 \nL 120.291911 82.87328 \nL 120.596579 149.319559 \nL 120.901248 128.880882 \nL 121.205916 91.831957 \nL 121.510584 153.879084 \nL 121.815253 77.834623 \nL 122.119921 120.170656 \nL 122.424589 137.108569 \nL 123.033926 53.257161 \nL 123.338594 103.562404 \nL 123.643262 76.070836 \nL 123.947931 26.963013 \nL 124.252599 134.478196 \nL 124.557267 137.630789 \nL 124.861936 122.256336 \nL 125.166604 69.298422 \nL 125.471272 125.218312 \nL 125.775941 70.005049 \nL 126.080609 110.688486 \nL 126.385277 113.084081 \nL 126.994614 149.90987 \nL 127.299282 112.325932 \nL 127.60395 120.079047 \nL 127.908619 94.918972 \nL 128.213287 88.921604 \nL 128.517955 123.604175 \nL 129.127292 100.473662 \nL 129.43196 93.503572 \nL 129.736629 122.104145 \nL 130.041297 96.636662 \nL 130.345965 125.344291 \nL 130.650633 126.758207 \nL 130.955302 62.700623 \nL 131.25997 117.529828 \nL 131.564638 123.090222 \nL 131.869307 100.068633 \nL 132.173975 144.908121 \nL 132.478643 68.669764 \nL 132.783312 111.131627 \nL 133.08798 55.026211 \nL 133.392648 138.4958 \nL 133.697316 111.368886 \nL 134.001985 61.969657 \nL 134.306653 120.881754 \nL 134.611321 31.644704 \nL 134.91599 133.280881 \nL 135.220658 85.883472 \nL 135.525326 104.591805 \nL 135.829995 104.304455 \nL 136.134663 117.904884 \nL 136.439331 113.079606 \nL 136.744 110.996764 \nL 137.048668 115.486453 \nL 137.353336 100.680207 \nL 137.658004 93.141856 \nL 137.962673 79.893518 \nL 138.267341 155.989565 \nL 138.572009 112.774788 \nL 138.876678 130.73514 \nL 139.181346 121.08143 \nL 139.486014 151.959419 \nL 139.790683 145.706786 \nL 140.095351 136.518878 \nL 140.400019 109.250054 \nL 140.704688 107.718949 \nL 141.314024 85.550963 \nL 141.618692 81.827501 \nL 141.923361 143.087066 \nL 142.532697 76.819284 \nL 142.837366 156.097727 \nL 143.142034 58.65641 \nL 143.446702 46.342524 \nL 143.751371 144.364987 \nL 144.056039 97.175214 \nL 144.360707 72.790604 \nL 144.665375 116.125298 \nL 144.970044 92.904152 \nL 145.274712 101.725808 \nL 145.57938 92.231113 \nL 145.884049 135.266117 \nL 146.188717 109.467723 \nL 146.798054 91.02264 \nL 147.102722 78.045695 \nL 147.40739 139.301843 \nL 147.712059 110.561545 \nL 148.016727 34.381734 \nL 148.321395 110.435556 \nL 148.626063 96.44553 \nL 148.930732 67.004494 \nL 149.2354 140.240903 \nL 149.540068 141.566902 \nL 149.844737 100.437886 \nL 150.149405 122.464934 \nL 150.454073 120.348614 \nL 150.758742 113.423698 \nL 151.06341 149.868189 \nL 151.368078 124.975579 \nL 151.672746 109.768263 \nL 151.977415 110.891992 \nL 152.282083 80.763033 \nL 152.586751 115.510013 \nL 152.89142 168.195807 \nL 153.196088 140.103859 \nL 153.500756 125.834689 \nL 153.805425 123.531571 \nL 154.110093 97.687769 \nL 154.414761 93.985391 \nL 154.71943 96.233229 \nL 155.024098 91.655618 \nL 155.328766 146.879085 \nL 155.633434 64.490875 \nL 156.242771 120.469728 \nL 156.547439 85.091817 \nL 156.852108 148.175432 \nL 157.156776 115.672854 \nL 157.461444 21.746182 \nL 157.766113 129.109782 \nL 158.070781 140.523856 \nL 158.375449 138.842265 \nL 158.680117 88.25065 \nL 158.984786 143.441449 \nL 159.289454 115.101675 \nL 159.594122 101.88807 \nL 159.898791 125.763142 \nL 160.203459 167.930162 \nL 160.508127 75.558881 \nL 160.812796 64.84352 \nL 161.117464 112.086986 \nL 161.422132 63.342896 \nL 161.726801 103.367793 \nL 162.031469 104.875902 \nL 162.336137 111.028279 \nL 162.640805 55.683473 \nL 162.945474 74.421917 \nL 163.55481 171.753937 \nL 163.859479 126.369498 \nL 164.164147 126.661818 \nL 164.468815 90.513499 \nL 164.773484 141.074527 \nL 165.38282 17.083636 \nL 165.687488 82.285749 \nL 165.992157 94.128538 \nL 166.296825 129.356015 \nL 166.601493 149.843209 \nL 166.906162 68.674816 \nL 167.21083 86.601395 \nL 167.515498 79.699059 \nL 167.820167 96.351828 \nL 168.429503 105.828776 \nL 168.734172 60.805984 \nL 169.03884 123.950908 \nL 169.343508 53.127849 \nL 169.648176 84.499118 \nL 169.952845 90.134484 \nL 170.257513 139.375511 \nL 170.562181 154.570477 \nL 170.86685 113.925773 \nL 171.171518 50.902647 \nL 171.476186 123.336669 \nL 171.780855 130.354146 \nL 172.085523 143.807256 \nL 172.390191 83.864196 \nL 173.304196 148.611298 \nL 173.608864 102.397468 \nL 173.913533 100.622335 \nL 174.218201 110.084727 \nL 174.522869 109.436744 \nL 174.827538 81.380802 \nL 175.132206 66.312625 \nL 175.436874 108.347214 \nL 175.741543 69.157673 \nL 176.046211 93.319274 \nL 176.350879 73.811732 \nL 176.655547 72.694521 \nL 176.960216 75.575724 \nL 177.264884 86.329855 \nL 177.569552 139.105922 \nL 177.874221 123.35874 \nL 178.178889 95.065162 \nL 178.483557 92.951612 \nL 178.788226 103.87057 \nL 179.092894 92.195768 \nL 179.397562 94.345603 \nL 179.70223 77.338949 \nL 180.311567 123.304136 \nL 180.616235 54.800361 \nL 180.920904 142.612938 \nL 181.53024 125.620131 \nL 181.834909 130.118757 \nL 182.139577 140.156421 \nL 182.444245 61.504777 \nL 182.748914 96.210028 \nL 183.053582 147.694148 \nL 183.35825 86.765479 \nL 183.662918 115.754839 \nL 183.967587 69.198431 \nL 184.272255 86.902779 \nL 184.576923 85.079374 \nL 184.881592 156.384674 \nL 185.18626 19.821643 \nL 185.490928 72.776306 \nL 185.795597 166.755855 \nL 186.404933 116.512748 \nL 186.709602 104.103697 \nL 187.01427 117.714384 \nL 187.623606 58.938697 \nL 187.928275 87.561699 \nL 188.232943 105.068833 \nL 188.537611 55.025665 \nL 188.84228 124.426669 \nL 189.146948 82.984341 \nL 189.451616 116.589119 \nL 189.756285 34.374266 \nL 190.060953 99.480881 \nL 190.365621 99.802055 \nL 190.670289 106.942627 \nL 190.974958 118.035679 \nL 191.279626 114.631077 \nL 191.584294 109.65326 \nL 191.888963 110.564878 \nL 192.193631 88.854101 \nL 192.498299 134.057801 \nL 192.802968 126.543857 \nL 193.107636 62.387264 \nL 193.412304 117.642993 \nL 193.716973 140.75839 \nL 194.021641 78.759076 \nL 194.326309 81.169724 \nL 194.630977 136.866518 \nL 194.935646 77.221825 \nL 195.240314 114.852919 \nL 195.544982 89.846498 \nL 195.849651 108.006991 \nL 196.154319 48.121418 \nL 196.458987 85.360181 \nL 196.763656 76.992679 \nL 197.068324 121.717324 \nL 197.372992 101.977653 \nL 197.67766 104.899662 \nL 197.982329 189.73728 \nL 198.286997 89.994494 \nL 198.591665 100.036996 \nL 198.896334 141.666455 \nL 199.201002 88.125624 \nL 199.50567 84.359558 \nL 200.115007 96.25459 \nL 200.419675 84.72432 \nL 200.724344 36.064554 \nL 201.029012 163.939351 \nL 201.33368 120.474843 \nL 201.638348 98.067474 \nL 201.943017 127.997227 \nL 202.247685 111.111571 \nL 202.552353 85.568336 \nL 202.857022 180.954705 \nL 203.16169 85.568336 \nL 203.771027 127.997227 \nL 204.075695 98.067474 \nL 204.380363 120.474843 \nL 204.685031 163.939351 \nL 204.9897 36.064554 \nL 205.294368 84.72432 \nL 205.599036 96.25459 \nL 206.208373 84.359558 \nL 206.513041 88.125624 \nL 206.81771 141.666455 \nL 207.122378 100.036996 \nL 207.427046 89.994494 \nL 207.731715 189.73728 \nL 208.036383 104.899662 \nL 208.341051 101.977653 \nL 208.645719 121.717324 \nL 208.950388 76.992679 \nL 209.255056 85.360181 \nL 209.559724 48.121418 \nL 209.864393 108.006991 \nL 210.169061 89.846498 \nL 210.473729 114.852919 \nL 210.778398 77.221825 \nL 211.083066 136.866518 \nL 211.387734 81.169724 \nL 211.692402 78.759076 \nL 211.997071 140.75839 \nL 212.301739 117.642993 \nL 212.606407 62.387264 \nL 212.911076 126.543857 \nL 213.215744 134.057801 \nL 213.520412 88.854101 \nL 213.825081 110.564878 \nL 214.129749 109.65326 \nL 214.739086 118.035679 \nL 215.348422 99.802055 \nL 215.65309 99.480881 \nL 215.957759 34.374266 \nL 216.262427 116.589119 \nL 216.567095 82.984341 \nL 216.871764 124.426669 \nL 217.176432 55.025665 \nL 217.4811 105.068833 \nL 217.785769 87.561699 \nL 218.090437 58.938697 \nL 218.699773 117.714384 \nL 219.004442 104.103697 \nL 219.30911 116.512748 \nL 219.613778 137.611927 \nL 219.918447 166.755855 \nL 220.223115 72.776306 \nL 220.527783 19.821643 \nL 220.832452 156.384674 \nL 221.13712 85.079374 \nL 221.441788 86.902779 \nL 221.746457 69.198431 \nL 222.051125 115.754839 \nL 222.355793 86.765479 \nL 222.660461 147.694148 \nL 223.269798 61.504777 \nL 223.574466 140.156421 \nL 223.879135 130.118757 \nL 224.183803 125.620131 \nL 224.79314 142.612938 \nL 225.097808 54.800361 \nL 225.402476 123.304136 \nL 226.011813 77.338949 \nL 226.316481 94.345603 \nL 226.621149 92.195768 \nL 226.925818 103.87057 \nL 227.230486 92.951612 \nL 227.535154 95.065162 \nL 227.839823 123.35874 \nL 228.144491 139.105922 \nL 228.449159 86.329855 \nL 228.753828 75.575724 \nL 229.058496 72.694521 \nL 229.363164 73.811732 \nL 229.667832 93.319274 \nL 229.972501 69.157673 \nL 230.277169 108.347214 \nL 230.581837 66.312625 \nL 230.886506 81.380802 \nL 231.191174 109.436744 \nL 231.495842 110.084727 \nL 231.800511 100.622335 \nL 232.105179 102.397468 \nL 232.409847 148.611298 \nL 232.714516 137.725132 \nL 233.323852 83.864196 \nL 233.62852 143.807256 \nL 233.933189 130.354146 \nL 234.237857 123.336669 \nL 234.542525 50.902647 \nL 235.151862 154.570477 \nL 235.45653 139.375511 \nL 235.761199 90.134484 \nL 236.065867 84.499118 \nL 236.370535 53.127849 \nL 236.675203 123.950908 \nL 236.979872 60.805984 \nL 237.28454 105.828776 \nL 237.893877 96.351828 \nL 238.198545 79.699059 \nL 238.503213 86.601395 \nL 238.807882 68.674816 \nL 239.11255 149.843209 \nL 239.417218 129.356015 \nL 239.721887 94.128538 \nL 240.026555 82.285749 \nL 240.331223 17.083636 \nL 240.94056 141.074527 \nL 241.245228 90.513499 \nL 241.549896 126.661818 \nL 241.854565 126.369498 \nL 242.159233 171.753937 \nL 242.76857 74.421917 \nL 243.073238 55.683473 \nL 243.377906 111.028279 \nL 243.682574 104.875902 \nL 243.987243 103.367793 \nL 244.291911 63.342896 \nL 244.596579 112.086986 \nL 244.901248 64.84352 \nL 245.205916 75.558881 \nL 245.510584 167.930162 \nL 245.815253 125.763142 \nL 246.119921 101.88807 \nL 246.424589 115.101675 \nL 246.729258 143.441449 \nL 247.033926 88.25065 \nL 247.338594 138.842265 \nL 247.643262 140.523856 \nL 247.947931 129.109782 \nL 248.252599 21.746182 \nL 248.557267 115.672854 \nL 248.861936 148.175432 \nL 249.166604 85.091817 \nL 249.471272 120.469728 \nL 250.080609 64.490875 \nL 250.385277 146.879085 \nL 250.689945 91.655618 \nL 250.994614 96.233229 \nL 251.299282 93.985391 \nL 251.60395 97.687769 \nL 251.908619 123.531571 \nL 252.213287 125.834689 \nL 252.517955 140.103859 \nL 252.822624 168.195807 \nL 253.43196 80.763033 \nL 253.736629 110.891992 \nL 254.041297 109.768263 \nL 254.345965 124.975579 \nL 254.650633 149.868189 \nL 254.955302 113.423698 \nL 255.25997 120.348614 \nL 255.564638 122.464934 \nL 255.869307 100.437886 \nL 256.173975 141.566902 \nL 256.478643 140.240903 \nL 256.783312 67.004494 \nL 257.08798 96.44553 \nL 257.392648 110.435556 \nL 257.697316 34.381734 \nL 258.001985 110.561545 \nL 258.306653 139.301843 \nL 258.611321 78.045695 \nL 259.220658 101.075682 \nL 259.525326 109.467723 \nL 259.829995 135.266117 \nL 260.134663 92.231113 \nL 260.439331 101.725808 \nL 260.744 92.904152 \nL 261.048668 116.125298 \nL 261.353336 72.790604 \nL 261.658004 97.175214 \nL 261.962673 144.364987 \nL 262.267341 46.342524 \nL 262.572009 58.65641 \nL 262.876678 156.097727 \nL 263.181346 76.819284 \nL 263.790683 143.087066 \nL 264.095351 81.827501 \nL 264.400019 85.550963 \nL 265.009356 107.718949 \nL 265.314024 109.250054 \nL 265.618692 136.518878 \nL 266.228029 151.959419 \nL 266.532697 121.08143 \nL 266.837366 130.73514 \nL 267.142034 112.774788 \nL 267.446702 155.989565 \nL 267.751371 79.893518 \nL 268.056039 93.141856 \nL 268.360707 100.680207 \nL 268.665375 115.486453 \nL 268.970044 110.996764 \nL 269.274712 113.079606 \nL 269.57938 117.904884 \nL 269.884049 104.304455 \nL 270.188717 104.591805 \nL 270.493385 85.883472 \nL 270.798054 133.280881 \nL 271.102722 31.644704 \nL 271.40739 120.881754 \nL 271.712059 61.969657 \nL 272.016727 111.368886 \nL 272.321395 138.4958 \nL 272.626063 55.026211 \nL 272.930732 111.131627 \nL 273.2354 68.669764 \nL 273.540068 144.908121 \nL 273.844737 100.068633 \nL 274.149405 123.090222 \nL 274.454073 117.529828 \nL 274.758742 62.700623 \nL 275.06341 126.758207 \nL 275.368078 125.344291 \nL 275.672746 96.636662 \nL 275.977415 122.104145 \nL 276.282083 93.503572 \nL 276.89142 109.513845 \nL 277.196088 123.604175 \nL 277.500756 88.921604 \nL 277.805425 94.918972 \nL 278.110093 120.079047 \nL 278.414761 112.325932 \nL 278.71943 149.90987 \nL 279.328766 113.084081 \nL 279.633434 110.688486 \nL 279.938103 70.005049 \nL 280.242771 125.218312 \nL 280.547439 69.298422 \nL 280.852108 122.256336 \nL 281.156776 137.630789 \nL 281.461444 134.478196 \nL 281.766113 26.963013 \nL 282.070781 76.070836 \nL 282.375449 103.562404 \nL 282.680117 53.257161 \nL 283.289454 137.108569 \nL 283.594122 120.170656 \nL 283.898791 77.834623 \nL 284.203459 153.879084 \nL 284.508127 91.831957 \nL 284.812796 128.880882 \nL 285.117464 149.319559 \nL 285.422132 82.87328 \nL 285.726801 116.613929 \nL 286.031469 80.379163 \nL 286.336137 87.174802 \nL 286.640805 115.668963 \nL 286.945474 85.336283 \nL 287.250142 138.711509 \nL 287.55481 63.151672 \nL 287.859479 52.30775 \nL 288.164147 121.905731 \nL 288.468815 76.499986 \nL 288.773484 89.981909 \nL 289.078152 129.087267 \nL 289.38282 144.489933 \nL 289.687488 123.053652 \nL 289.992157 150.259688 \nL 290.296825 99.124865 \nL 290.601493 162.999742 \nL 290.906162 83.727443 \nL 291.21083 214.756364 \nL 291.515498 71.14366 \nL 291.820167 134.608297 \nL 292.124835 139.572743 \nL 292.429503 54.078831 \nL 292.734172 121.166107 \nL 293.03884 99.329158 \nL 293.343508 65.713785 \nL 293.648176 127.432504 \nL 293.952845 114.805911 \nL 294.257513 114.288453 \nL 294.562181 86.668667 \nL 294.86685 135.937088 \nL 295.171518 127.51362 \nL 295.476186 66.166797 \nL 295.780855 141.964026 \nL 296.390191 89.734969 \nL 296.694859 89.667812 \nL 297.304196 106.975532 \nL 297.608864 65.191863 \nL 297.913533 46.434045 \nL 298.522869 131.865166 \nL 298.827538 95.405822 \nL 299.132206 95.745563 \nL 299.741543 130.966851 \nL 300.046211 162.032135 \nL 300.350879 98.211855 \nL 300.655547 119.228067 \nL 300.960216 84.60081 \nL 301.264884 87.2588 \nL 301.569552 136.231828 \nL 301.874221 81.785292 \nL 302.178889 130.257486 \nL 302.483557 83.625557 \nL 302.788226 119.194554 \nL 303.092894 93.237535 \nL 303.397562 134.132403 \nL 303.70223 70.699919 \nL 304.006899 102.937177 \nL 304.311567 151.938464 \nL 304.616235 76.126275 \nL 304.920904 85.630958 \nL 305.225572 107.743542 \nL 305.53024 82.673204 \nL 305.834909 66.785992 \nL 306.139577 87.645555 \nL 306.444245 161.533395 \nL 306.748914 91.004798 \nL 307.053582 128.465131 \nL 307.35825 59.998351 \nL 307.662918 72.569911 \nL 307.967587 127.695239 \nL 308.272255 78.981465 \nL 308.576923 84.359789 \nL 308.881592 111.306988 \nL 309.490928 135.190123 \nL 309.795597 120.140555 \nL 310.100265 76.978551 \nL 310.404933 129.718912 \nL 310.709602 50.230486 \nL 311.01427 114.179654 \nL 311.318938 84.933166 \nL 311.623606 36.084673 \nL 312.232943 142.340686 \nL 312.537611 95.857233 \nL 312.84228 103.826454 \nL 313.146948 116.935996 \nL 313.451616 136.919629 \nL 313.756285 118.928032 \nL 314.060953 136.348055 \nL 314.365621 92.626892 \nL 314.670289 90.600788 \nL 314.974958 80.985649 \nL 315.279626 50.268031 \nL 315.584294 114.66253 \nL 315.888963 97.069111 \nL 316.193631 105.968962 \nL 316.498299 100.96382 \nL 316.802968 52.750858 \nL 317.107636 136.846551 \nL 317.412304 111.289512 \nL 317.716973 109.258045 \nL 318.021641 109.555978 \nL 318.326309 55.058914 \nL 318.630977 74.359528 \nL 318.935646 53.202772 \nL 319.240314 101.947294 \nL 319.544982 103.750516 \nL 319.849651 102.737628 \nL 320.154319 112.303193 \nL 320.458987 98.816132 \nL 320.763656 61.735634 \nL 321.068324 101.052123 \nL 321.372992 67.655231 \nL 321.67766 65.7936 \nL 321.982329 74.280561 \nL 322.286997 54.592748 \nL 322.591665 144.821008 \nL 322.896334 119.235859 \nL 323.201002 58.27274 \nL 323.50567 118.171922 \nL 323.810339 125.581953 \nL 324.115007 89.335809 \nL 324.419675 97.269047 \nL 324.724344 110.782745 \nL 325.029012 102.362019 \nL 325.33368 107.22873 \nL 325.638348 99.856306 \nL 325.943017 60.701119 \nL 326.247685 97.785891 \nL 326.552353 120.900224 \nL 326.857022 89.937523 \nL 327.16169 129.168978 \nL 327.466358 110.183927 \nL 327.771027 140.252326 \nL 328.075695 89.269659 \nL 328.380363 127.620328 \nL 328.685031 111.498253 \nL 328.9897 143.706366 \nL 329.294368 84.968968 \nL 329.599036 128.299695 \nL 329.903705 101.362232 \nL 330.208373 104.746717 \nL 330.81771 162.090792 \nL 331.122378 87.213593 \nL 331.427046 85.848192 \nL 332.036383 124.761899 \nL 332.341051 57.513803 \nL 332.645719 133.929783 \nL 332.950388 130.084285 \nL 333.255056 60.040631 \nL 333.864393 143.269805 \nL 334.169061 121.037836 \nL 334.473729 58.125135 \nL 334.778398 80.650185 \nL 335.083066 60.348825 \nL 335.387734 114.125814 \nL 335.692402 119.827857 \nL 335.997071 109.265179 \nL 336.301739 129.043668 \nL 336.606407 106.121634 \nL 336.911076 102.224789 \nL 337.215744 112.141295 \nL 337.520412 102.597173 \nL 337.825081 138.329812 \nL 338.129749 59.736917 \nL 338.434417 36.786932 \nL 338.739086 99.133549 \nL 339.043754 59.219531 \nL 339.348422 104.272581 \nL 339.65309 54.829968 \nL 339.957759 69.678243 \nL 340.262427 121.748075 \nL 340.567095 153.090636 \nL 340.871764 64.299044 \nL 341.176432 95.201812 \nL 341.4811 74.509309 \nL 341.785769 68.934351 \nL 342.090437 37.941777 \nL 342.395105 78.089605 \nL 342.699773 100.163764 \nL 343.004442 107.784796 \nL 343.30911 92.825138 \nL 343.613778 158.38771 \nL 343.918447 96.14002 \nL 344.223115 86.708491 \nL 344.527783 81.787293 \nL 344.832452 71.330788 \nL 345.13712 124.851079 \nL 345.441788 73.751584 \nL 345.746457 109.010086 \nL 346.051125 73.543535 \nL 346.355793 116.930864 \nL 346.660461 123.444722 \nL 346.96513 111.219974 \nL 347.269798 77.171116 \nL 347.574466 69.817937 \nL 347.879135 56.853504 \nL 348.488471 143.183961 \nL 348.79314 103.976738 \nL 349.097808 114.837978 \nL 349.402476 147.410721 \nL 349.707145 69.825362 \nL 350.011813 88.127298 \nL 350.316481 94.599182 \nL 350.621149 135.788733 \nL 350.925818 135.182704 \nL 351.230486 146.09948 \nL 351.535154 127.410496 \nL 351.839823 134.568735 \nL 352.144491 66.640459 \nL 352.753828 169.096619 \nL 353.058496 131.681366 \nL 353.363164 61.231811 \nL 353.667832 106.301414 \nL 353.972501 108.110901 \nL 354.277169 68.279422 \nL 354.581837 66.931303 \nL 354.886506 78.638176 \nL 354.886506 78.638176 \n\" style=\"fill:none;stroke:#1f77b4;stroke-linecap:square;stroke-width:1.5;\"/>\n   </g>\n   <g id=\"patch_3\">\n    <path d=\"M 35.304688 224.64 \nL 35.304688 7.2 \n\" style=\"fill:none;stroke:#000000;stroke-linecap:square;stroke-linejoin:miter;stroke-width:0.8;\"/>\n   </g>\n   <g id=\"patch_4\">\n    <path d=\"M 370.104688 224.64 \nL 370.104688 7.2 \n\" style=\"fill:none;stroke:#000000;stroke-linecap:square;stroke-linejoin:miter;stroke-width:0.8;\"/>\n   </g>\n   <g id=\"patch_5\">\n    <path d=\"M 35.304688 224.64 \nL 370.104688 224.64 \n\" style=\"fill:none;stroke:#000000;stroke-linecap:square;stroke-linejoin:miter;stroke-width:0.8;\"/>\n   </g>\n   <g id=\"patch_6\">\n    <path d=\"M 35.304688 7.2 \nL 370.104688 7.2 \n\" style=\"fill:none;stroke:#000000;stroke-linecap:square;stroke-linejoin:miter;stroke-width:0.8;\"/>\n   </g>\n  </g>\n </g>\n <defs>\n  <clipPath id=\"p4cb4e046d9\">\n   <rect height=\"217.44\" width=\"334.8\" x=\"35.304688\" y=\"7.2\"/>\n  </clipPath>\n </defs>\n</svg>\n",
      "image/png": "[encoded data removed]"
     },
     "metadata": {
      "needs_background": "light"
     }
    }
   ],
   "source": [
    "from scipy.fftpack import fft\n",
    "plt.plot(fft(X).real)"
   ]
  },
  {
   "cell_type": "code",
   "execution_count": null,
   "metadata": {
    "collapsed": true
   },
   "outputs": [],
   "source": []
  }
 ],
 "metadata": {
  "anaconda-cloud": {},
  "kernelspec": {
   "display_name": "Python 3",
   "language": "python",
   "name": "python3"
  },
  "language_info": {
   "codemirror_mode": {
    "name": "ipython",
    "version": 2
   },
   "file_extension": ".py",
   "mimetype": "text/x-python",
   "name": "python",
   "nbconvert_exporter": "python",
   "pygments_lexer": "ipython2",
   "version": "3.8.5-final"
  }
 },
 "nbformat": 4,
 "nbformat_minor": 0
}